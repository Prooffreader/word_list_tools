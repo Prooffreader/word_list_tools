{
 "metadata": {
  "name": "",
  "signature": "sha256:76defcb9ffc2627492866ea451c625767af76389a2b43b2f9aedacdc9c135976"
 },
 "nbformat": 3,
 "nbformat_minor": 0,
 "worksheets": [
  {
   "cells": [
    {
     "cell_type": "markdown",
     "metadata": {},
     "source": [
      "# word_list_tools repo\n",
      "\n",
      "by David Taylor, www.prooffreader.com, prooffreader@gmail.com\n",
      "\n",
      "a collection of tools to create and analyze lists of words using python with pandas and matplotlib"
     ]
    },
    {
     "cell_type": "markdown",
     "metadata": {},
     "source": [
      "## single letter frequency ###\n",
      "\n",
      "determine frequency of individual letters  in a corpus\n",
      "\n",
      "also determine the conditional frequency of letters before and after a given letter, as well as co-occurrence in words\n",
      "\n",
      "source word list is pandas dataframe with columns 'word' and 'freq'. Any other columns will be ignored.\n",
      "\n",
      "** initial_data_munge must be run first to create pickled dataframes of word lists **"
     ]
    },
    {
     "cell_type": "code",
     "collapsed": false,
     "input": [
      "dataframe_base = 'brown_words' # change as needed to point to pickle\n",
      "\n",
      "data_path = 'data'\n",
      "nb_path = 'letter_single_counts'\n",
      "\n",
      "save_filename = '' #used for .pickle and .png, leave as '' to use a default filename\n",
      "\n",
      "import pandas as pd\n",
      "import os\n",
      "import time\n",
      "\n",
      "words = pd.read_pickle(data_path + '/' + dataframe_base + '.pickle')\n",
      "\n",
      "alphabet = '_abcdefghijklmnopqrstuvwxyz'\n",
      "# note: underscore(_) is a null value, i.e. '_a' signifies a word that starts with the letter a\n",
      "\n",
      "def increment_dict(d, key, increment=1):\n",
      "    if key in d.keys():\n",
      "        d[key] += increment\n",
      "    else:\n",
      "        d[key] = increment\n",
      "    return d\n",
      "\n"
     ],
     "language": "python",
     "metadata": {},
     "outputs": [],
     "prompt_number": 40
    },
    {
     "cell_type": "code",
     "collapsed": false,
     "input": [
      "class progress_bar: \n",
      "    def __init__(self, loop_length):\n",
      "        import time\n",
      "        self.start = time.time()\n",
      "        self.increment_size = 100.0/loop_length\n",
      "        self.curr_count = 0\n",
      "        self.curr_pct = 0\n",
      "        self.finished = False\n",
      "        self.overflow = False\n",
      "        print '% complete:',\n",
      "    \n",
      "    def increment(self):\n",
      "        self.curr_count += self.increment_size\n",
      "        if int(self.curr_count) > self.curr_pct:\n",
      "            self.curr_pct = int(self.curr_count)\n",
      "            if self.finished == False:\n",
      "                if self.curr_pct <= 99:\n",
      "                    print self.curr_pct,\n",
      "                elif self.curr_pct == 100:\n",
      "                    print \"100\"\n",
      "                    self.finished = True  \n",
      "                elif self.overflow == False:\n",
      "                    print \"***** Count has gone over 100%; likely either due to an error in the loop_length specified when \" + \\\n",
      "                          \"progress_bar was instantiated or in the placement of the increment function *****\"\n",
      "                    self.overflow = True\n",
      "                else:\n",
      "                    self.finished = True\n",
      "            if self.overflow == False and self.finished == True:\n",
      "                print 'Elapsed time: %0.1f seconds.' % (time.time() - self.start)\n",
      "                self.overflow = True\n",
      "                \n"
     ],
     "language": "python",
     "metadata": {},
     "outputs": [],
     "prompt_number": 41
    },
    {
     "cell_type": "heading",
     "level": 3,
     "metadata": {},
     "source": [
      "Single letter frequencies"
     ]
    },
    {
     "cell_type": "code",
     "collapsed": false,
     "input": [
      "redo_pickle = True #change to true to overwrite existing pickle if the underlying data changes\n",
      "\n",
      "if save_filename == '':\n",
      "    letfreqs_pickle = nb_path + '/' + dataframe_base + '_letfreqs.pickle'\n",
      "else:\n",
      "    letfreqs_pickle = nb_path + '/' + save_filename + '.pickle'\n",
      "\n",
      "if not os.path.isfile(letfreqs_pickle) or redo_pickle == True:    \n",
      "    \n",
      "    start = time.time()\n",
      "    \n",
      "    letfreq_dict = {}\n",
      "    \n",
      "    for ltr in alphabet:\n",
      "        letfreq_dict[ltr] = 0\n",
      "    \n",
      "    for i in range(len(words)):\n",
      "        wd = words.word.iloc[i]\n",
      "        for ltr in wd:\n",
      "            letfreq_dict[ltr] += words.freq.iloc[i]\n",
      "                \n",
      "    letfreqs_df = pd.DataFrame()\n",
      "    for letter in alphabet:\n",
      "        temp = pd.DataFrame({'letter':[letter],\n",
      "                              'freq':[letfreq_dict[letter]]})\n",
      "        letfreqs_df = letfreqs_df.append(temp, ignore_index=True)\n",
      "\n",
      "    letfreqs_df.to_pickle(letfreqs_pickle)\n",
      "    \n",
      "    letfreqs_df['normal'] = 0.0\n",
      "\n",
      "    letfreqsum = letfreqs_df.freq.sum()\n",
      "\n",
      "    for i in range(len(letfreqs_df)):\n",
      "        letter = letfreqs_df.letter.iloc[i]\n",
      "        freq = letfreqs_df.freq.iloc[i]\n",
      "        letfreqs_df.normal.iloc[i] = 1.0 * freq / letfreqsum\n",
      "\n",
      "    letfreqs_df.set_index('letter', drop=False, inplace=True)\n",
      "    \n",
      "    print \"%d seconds elapsed.\" % (time.time() - start)\n",
      "\n",
      "else:\n",
      "    print 'Reading from pickle.'\n",
      "    letfreqs_df = pd.read_pickle(letfreqs_pickle)\n",
      "    \n",
      "print letfreqs_df"
     ],
     "language": "python",
     "metadata": {},
     "outputs": [
      {
       "output_type": "stream",
       "stream": "stdout",
       "text": [
        "11 seconds elapsed.\n",
        "          freq letter    normal\n",
        "letter                         \n",
        "_            0      _  0.000000\n",
        "a       372911      a  0.081110\n",
        "b        70812      b  0.015402\n",
        "c       142440      c  0.030981\n",
        "d       180935      d  0.039354\n",
        "e       577493      e  0.125607\n",
        "f       108098      f  0.023512\n",
        "g        89353      g  0.019435\n",
        "h       252193      h  0.054853\n",
        "i       336049      i  0.073092\n",
        "j         7215      j  0.001569\n",
        "k        29857      k  0.006494\n",
        "l       188286      l  0.040953\n",
        "m       115244      m  0.025066\n",
        "n       325504      n  0.070798\n",
        "o       350082      o  0.076144\n",
        "p        92998      p  0.020227\n",
        "q         4977      q  0.001083\n",
        "r       280292      r  0.060965\n",
        "s       296758      s  0.064546\n",
        "t       427058      t  0.092887\n",
        "u       124718      u  0.027127\n",
        "v        45674      v  0.009934\n",
        "w        86528      w  0.018820\n",
        "x         9052      x  0.001969\n",
        "y        78777      y  0.017134\n",
        "z         4316      z  0.000939\n"
       ]
      }
     ],
     "prompt_number": 6
    },
    {
     "cell_type": "heading",
     "level": 4,
     "metadata": {},
     "source": [
      "Compare with letter frequencies from Robert Lewand's Cryptological Mathematics (http://en.algoritmy.net/article/40379/Letter-frequency-English)"
     ]
    },
    {
     "cell_type": "code",
     "collapsed": false,
     "input": [
      "lewand = \"\"\"\n",
      "letter,freq\n",
      "a,0.081670\n",
      "b,0.014920\n",
      "c,0.027820\n",
      "d,0.042530\n",
      "e,0.130001\n",
      "f,0.022280\n",
      "g,0.020150\n",
      "h,0.060940\n",
      "i,0.069660\n",
      "j,0.001530\n",
      "k,0.007720\n",
      "l,0.040250\n",
      "m,0.024060\n",
      "n,0.067490\n",
      "o,0.075070\n",
      "p,0.019290\n",
      "q,0.000950\n",
      "r,0.059870\n",
      "s,0.063270\n",
      "t,0.090560\n",
      "u,0.027580\n",
      "v,0.009780\n",
      "w,0.023600\n",
      "x,0.001500\n",
      "y,0.019740\n",
      "z,0.000740\n",
      "\"\"\"\n",
      "\n",
      "from six.moves import cStringIO as cStringIO\n",
      "lewandcompar = pd.read_csv(cStringIO(lewand), skiprows=1, skipinitialspace=True)"
     ],
     "language": "python",
     "metadata": {},
     "outputs": [],
     "prompt_number": 8
    },
    {
     "cell_type": "code",
     "collapsed": false,
     "input": [
      "lewandcompar['lewand'] = 0.0\n",
      "lewandcompar['diff'] = 0.0\n",
      "lewandcompar['ratio'] = 0.0\n",
      "for i in range(len(lewandcompar)):\n",
      "    ltr = lewandcompar.letter.iloc[i]\n",
      "    freq = lewandcompar.freq.iloc[i]\n",
      "    freq2 = letfreqs_df[letfreqs_df.letter == ltr].normal.iloc[0]\n",
      "    lewandcompar['lewand'] = freq2\n",
      "    lewandcompar['diff'].iloc[i] = freq - freq2\n",
      "    lewandcompar['ratio'].iloc[i] = freq*1.0 / freq2\n",
      "print lewandcompar\n",
      "lewandcompar.to_pickle('lewand_'+dataframe_base+'.pickle')"
     ],
     "language": "python",
     "metadata": {},
     "outputs": [
      {
       "output_type": "stream",
       "stream": "stdout",
       "text": [
        "   letter      freq    lewand      diff     ratio\n",
        "0       a  0.081670  0.000939  0.000560  1.006909\n",
        "1       b  0.014920  0.000939 -0.000482  0.968713\n",
        "2       c  0.027820  0.000939 -0.003161  0.897963\n",
        "3       d  0.042530  0.000939  0.003176  1.080702\n",
        "4       e  0.130001  0.000939  0.004394  1.034983\n",
        "5       f  0.022280  0.000939 -0.001232  0.947612\n",
        "6       g  0.020150  0.000939  0.000715  1.036810\n",
        "7       h  0.060940  0.000939  0.006087  1.110970\n",
        "8       i  0.069660  0.000939 -0.003432  0.953046\n",
        "9       j  0.001530  0.000939 -0.000039  0.974963\n",
        "10      k  0.007720  0.000939  0.001226  1.188787\n",
        "11      l  0.040250  0.000939 -0.000703  0.982836\n",
        "12      m  0.024060  0.000939 -0.001006  0.959865\n",
        "13      n  0.067490  0.000939 -0.003308  0.953271\n",
        "14      o  0.075070  0.000939 -0.001074  0.985893\n",
        "15      p  0.019290  0.000939 -0.000937  0.953656\n",
        "16      q  0.000950  0.000939 -0.000133  0.877585\n",
        "17      r  0.059870  0.000939 -0.001095  0.982046\n",
        "18      s  0.063270  0.000939 -0.001276  0.980231\n",
        "19      t  0.090560  0.000939 -0.002327  0.974951\n",
        "20      u  0.027580  0.000939  0.000453  1.016713\n",
        "21      v  0.009780  0.000939 -0.000154  0.984471\n",
        "22      w  0.023600  0.000939  0.004780  1.253974\n",
        "23      x  0.001500  0.000939 -0.000469  0.761868\n",
        "24      y  0.019740  0.000939  0.002606  1.152075\n",
        "25      z  0.000740  0.000939 -0.000199  0.788285\n"
       ]
      }
     ],
     "prompt_number": 9
    },
    {
     "cell_type": "code",
     "collapsed": false,
     "input": [
      "import matplotlib.pyplot as plt\n",
      "%matplotlib inline"
     ],
     "language": "python",
     "metadata": {},
     "outputs": [],
     "prompt_number": 10
    },
    {
     "cell_type": "code",
     "collapsed": false,
     "input": [
      "#coha\n",
      "#plt.scatter(lewandcompar['diff'], lewandcompar['ratio'])"
     ],
     "language": "python",
     "metadata": {},
     "outputs": [],
     "prompt_number": 13
    },
    {
     "cell_type": "code",
     "collapsed": false,
     "input": [
      "#brown\n",
      "plt.scatter(lewandcompar['diff'], lewandcompar['ratio'])"
     ],
     "language": "python",
     "metadata": {},
     "outputs": [
      {
       "metadata": {},
       "output_type": "pyout",
       "prompt_number": 12,
       "text": [
        "<matplotlib.collections.PathCollection at 0xc4fd748>"
       ]
      },
      {
       "metadata": {},
       "output_type": "display_data",
       "png": "[encoded data removed]",
       "text": [
        "<matplotlib.figure.Figure at 0xced84e0>"
       ]
      }
     ],
     "prompt_number": 12
    },
    {
     "cell_type": "code",
     "collapsed": false,
     "input": [
      "brown = \"\"\"\n",
      "   letter      freq      diff     ratio\n",
      "0       a  0.081670  0.000560  1.006909\n",
      "1       b  0.014920 -0.000482  0.968713\n",
      "2       c  0.027820 -0.003161  0.897963\n",
      "3       d  0.042530  0.003176  1.080702\n",
      "4       e  0.130001  0.004394  1.034983\n",
      "5       f  0.022280 -0.001232  0.947612\n",
      "6       g  0.020150  0.000715  1.036810\n",
      "7       h  0.060940  0.006087  1.110970\n",
      "8       i  0.069660 -0.003432  0.953046\n",
      "9       j  0.001530 -0.000039  0.974963\n",
      "10      k  0.007720  0.001226  1.188787\n",
      "11      l  0.040250 -0.000703  0.982836\n",
      "12      m  0.024060 -0.001006  0.959865\n",
      "13      n  0.067490 -0.003308  0.953271\n",
      "14      o  0.075070 -0.001074  0.985893\n",
      "15      p  0.019290 -0.000937  0.953656\n",
      "16      q  0.000950 -0.000133  0.877585\n",
      "17      r  0.059870 -0.001095  0.982046\n",
      "18      s  0.063270 -0.001276  0.980231\n",
      "19      t  0.090560 -0.002327  0.974951\n",
      "20      u  0.027580  0.000453  1.016713\n",
      "21      v  0.009780 -0.000154  0.984471\n",
      "22      w  0.023600  0.004780  1.253974\n",
      "23      x  0.001500 -0.000469  0.761868\n",
      "24      y  0.019740  0.002606  1.152075\n",
      "25      z  0.000740 -0.000199  0.788285\n",
      "\"\"\""
     ],
     "language": "python",
     "metadata": {},
     "outputs": []
    }
   ],
   "metadata": {}
  }
 ]
}