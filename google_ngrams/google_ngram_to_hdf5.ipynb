{
 "metadata": {
  "name": "",
  "signature": "sha256:dfd23423b41eac17c0f9a03c4f1b100e8898bc9d1565c92cc84cc05ab9516253"
 },
 "nbformat": 3,
 "nbformat_minor": 0,
 "worksheets": [
  {
   "cells": [
    {
     "cell_type": "code",
     "collapsed": false,
     "input": [
      "import glob\n",
      "file_list = glob.glob('goog*.csv')     \n",
      "\n",
      "from tables import *\n",
      "class gbrecord(IsDescription):\n",
      "    word = StringCol(18)\n",
      "    year = UInt16Col()\n",
      "    count = UInt32Col()\n",
      "    books = UInt32Col() \n",
      "    over18 = BoolCol()\n",
      "    \n",
      "poslist = ['_NOUN', '_VERB', '_ADJ', '_ADV', '_PRON', '_DET', \n",
      "           '_ADP', '_NUM', '_CONJ', '_PRT', '_.', '_X']"
     ],
     "language": "python",
     "metadata": {},
     "outputs": []
    },
    {
     "cell_type": "code",
     "collapsed": false,
     "input": [
      "try:                # this try block is here in case you want to make changes to h5file while it is open by returning to this cell\n",
      "    h5file.close()\n",
      "except:\n",
      "    pass\n",
      "#filename = \"googlebooks.h5\"\n",
      "filename = \"eraseme1.h5\"\n",
      "h5file = openFile(filename, mode = \"w\", title = \"Google books\")\n",
      "# Create a new group under \"/\" (root)\n",
      "group = h5file.createGroup(\"/\", 'ngrams', 'Ngrams')\n",
      "# Create a table\n",
      "table = h5file.createTable(group, 'g1_all', gbrecord, \"Google Books All 1grams\", expectedrows = 6000000000)"
     ],
     "language": "python",
     "metadata": {},
     "outputs": []
    },
    {
     "cell_type": "code",
     "collapsed": false,
     "input": [
      "inputcount = 0\n",
      "for inputfile in file_list:\n",
      "    print inputfile,\n",
      "    with open(inputfile, \"r\") as f:\n",
      "        for line in f.readlines():\n",
      "            this_line = line.split(\"\\t\")\n",
      "            tagged = False\n",
      "            for pos in poslist:\n",
      "                if this_line[0].endswith(pos):\n",
      "                    tagged = True\n",
      "            if tagged == False:\n",
      "                gbrecord = table.row\n",
      "                if len(temp_list[0] > 24:\n",
      "                    gbrecord['word'] = temp_list[0][:18]\n",
      "                    gbrecord['over18'] = True\n",
      "                else:\n",
      "                    gbrecord['word'] = temp_list[0]\n",
      "                    gbrecord['over18'] = False\n",
      "                gbrecord['year'] = temp_list[1]\n",
      "                gbrecord['count'] = temp_list[2]\n",
      "                gbrecord['pages'] = temp_list[3]\n",
      "                gbrecord['books'] = temp_list[4] \n",
      "                gg_record.append()\n",
      "\n",
      "table.flush()\n",
      "h5file.close()\n",
      "    \n",
      "\n",
      "\n"
     ],
     "language": "python",
     "metadata": {},
     "outputs": []
    }
   ],
   "metadata": {}
  }
 ]
}