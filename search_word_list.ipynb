{
 "metadata": {
  "name": "",
  "signature": "sha256:7636a0fa9f69c635652353f7dc8266997113b69039ffaf1e61acb30be39a4258"
 },
 "nbformat": 3,
 "nbformat_minor": 0,
 "worksheets": [
  {
   "cells": [
    {
     "cell_type": "markdown",
     "metadata": {},
     "source": [
      "# word_list_tools repo\n",
      "\n",
      "by David Taylor, www.prooffreader.com, prooffreader@gmail.com\n",
      "\n",
      "a collection of tools to create and analyze lists of words using python with pandas and matplotlib"
     ]
    },
    {
     "cell_type": "markdown",
     "metadata": {},
     "source": [
      "## search word lists according to patterns ###\n",
      "\n",
      "source word list is pandas dataframe with columns 'word' and 'freq'. Any other columns will be ignored.\n",
      "\n",
      "** initial_data_munge must be run first to create pickled dataframes of word lists **"
     ]
    },
    {
     "cell_type": "code",
     "collapsed": false,
     "input": [
      "dataframe_base = 'coha_words' # change as needed to point to pickle\n",
      "\n",
      "data_path = 'data'\n",
      "\n",
      "save_filename = '' #used for .pickle and .png, leave as '' to use a default filename\n",
      "\n",
      "import pandas as pd\n",
      "import os\n",
      "import time\n",
      "\n",
      "words = pd.read_pickle(data_path + '/' + dataframe_base + '.pickle')"
     ],
     "language": "python",
     "metadata": {},
     "outputs": [],
     "prompt_number": 1
    },
    {
     "cell_type": "code",
     "collapsed": false,
     "input": [
      "class progress_bar: \n",
      "    def __init__(self, loop_length):\n",
      "        import time\n",
      "        self.start = time.time()\n",
      "        self.increment_size = 100.0/loop_length\n",
      "        self.curr_count = 0\n",
      "        self.curr_pct = 0\n",
      "        self.finished = False\n",
      "        self.overflow = False\n",
      "        print '% complete:',\n",
      "    \n",
      "    def increment(self):\n",
      "        self.curr_count += self.increment_size\n",
      "        if int(self.curr_count) > self.curr_pct:\n",
      "            self.curr_pct = int(self.curr_count)\n",
      "            if self.finished == False:\n",
      "                if self.curr_pct <= 99:\n",
      "                    print self.curr_pct,\n",
      "                elif self.curr_pct == 100:\n",
      "                    print \"100\"\n",
      "                    self.finished = True  \n",
      "                elif self.overflow == False:\n",
      "                    print \"***** Count has gone over 100%; likely either due to an error in the loop_length specified when \" + \\\n",
      "                          \"progress_bar was instantiated or in the placement of the increment function *****\"\n",
      "                    self.overflow = True\n",
      "                else:\n",
      "                    self.finished = True\n",
      "            if self.overflow == False and self.finished == True:\n",
      "                print 'Elapsed time: %0.1f seconds.' % (time.time() - self.start)\n",
      "                self.overflow = True"
     ],
     "language": "python",
     "metadata": {},
     "outputs": [],
     "prompt_number": 2
    },
    {
     "cell_type": "code",
     "collapsed": false,
     "input": [
      "print words.head()"
     ],
     "language": "python",
     "metadata": {},
     "outputs": [
      {
       "output_type": "stream",
       "stream": "stdout",
       "text": [
        "       word      freq  length  decades\n",
        "295979  the  25067892       3       20\n",
        "208853   of  12775291       2       20\n",
        "9742    and  11874596       3       20\n",
        "300650   to  10458092       2       20\n",
        "0         a   8755053       1       20\n"
       ]
      }
     ],
     "prompt_number": 3
    },
    {
     "cell_type": "code",
     "collapsed": false,
     "input": [
      "print words[words.word.str.contains('mis')][50:100]"
     ],
     "language": "python",
     "metadata": {},
     "outputs": [
      {
       "output_type": "stream",
       "stream": "stdout",
       "text": [
        "                    word  freq  length  decades\n",
        "79923          dismissal  2095       9       20\n",
        "191403  misunderstanding  2084      16       20\n",
        "191075        misleading  1938      10       20\n",
        "50759            chemist  1876       7       20\n",
        "190794     miscellaneous  1835      13       20\n",
        "191390             mists  1769       5       20\n",
        "190965        misgivings  1763      10       19\n",
        "14895          armistice  1752       9       19\n",
        "190699               mis  1723       3       20\n",
        "190913         miserably  1703       9       20\n",
        "210342          omission  1441       8       20\n",
        "191078            misled  1439       6       20\n",
        "91024          emissions  1399       9       14\n",
        "233219           premise  1314       7       20\n",
        "191299             missy  1253       5       20\n",
        "8889               amiss  1251       5       20\n",
        "59400        compromised  1236      11       19\n",
        "312955      unmistakably  1224      12       17\n",
        "2935          admissions  1213      10       19\n",
        "190973         misguided  1165       9       20\n",
        "50764           chemists  1162       8       20\n",
        "190925          miseries  1138       8       20\n",
        "310356    uncompromising  1124      14       19\n",
        "191314         mistaking  1121       9       20\n",
        "79932         dismissing  1012      10       20\n",
        "288249           surmise  1004       7       20\n",
        "74290             demise   971       6       20\n",
        "191125         misplaced   951       9       20\n",
        "190838        misconduct   947      10       20\n",
        "223532       pessimistic   943      11       15\n",
        "126110            hamish   938       6        9\n",
        "190907             miser   933       5       20\n",
        "191296            missus   919       6       19\n",
        "288250          surmised   910       8       19\n",
        "59403        compromises   906      11       20\n",
        "272642          skirmish   902       8       20\n",
        "285700        submissive   901      10       20\n",
        "191401     misunderstand   889      13       20\n",
        "191357           mistook   870       7       20\n",
        "223529         pessimism   843       9       16\n",
        "222842       permissible   837      11       16\n",
        "190985            mishap   828       6       19\n",
        "191381          mistrust   812       8       20\n",
        "98407         extremists   805      10       15\n",
        "91023           emission   805       8       20\n",
        "105099           flemish   801       7       20\n",
        "58602         commissary   798      10       19\n",
        "191071           mislead   787       7       20\n",
        "99691           famished   760       8       20\n",
        "191410            misuse   752       6       20\n"
       ]
      }
     ],
     "prompt_number": 5
    },
    {
     "cell_type": "code",
     "collapsed": false,
     "input": [],
     "language": "python",
     "metadata": {},
     "outputs": []
    }
   ],
   "metadata": {}
  }
 ]
}