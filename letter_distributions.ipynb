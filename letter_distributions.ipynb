{
 "metadata": {
  "name": "letter_distributions.ipynb"
 },
 "nbformat": 3,
 "nbformat_minor": 0,
 "worksheets": [
  {
   "cells": [
    {
     "cell_type": "markdown",
     "metadata": {},
     "source": [
      "# word_list_tools repo\n",
      "\n",
      "by David Taylor, www.prooffreader.com, prooffreader@gmail.com\n",
      "\n",
      "a collection of tools to create and analyze lists of words using python with pandas and matplotlib"
     ]
    },
    {
     "cell_type": "markdown",
     "metadata": {},
     "source": [
      "## letter_distributions\n",
      "\n",
      "determine letter distributions within the word based on a word list with frequencies\n",
      "\n",
      "word list is pandas dataframe with columns 'word' and 'freq'. Any other columns will be ignored.\n",
      "\n",
      "** initial_data_munge must be run first to create pickled dataframes of word lists **"
     ]
    },
    {
     "cell_type": "code",
     "collapsed": false,
     "input": [
      "dataframe_base = 'brown_words' # change as needed to point to pickle\n",
      "dataframe_description = 'Brown Corpus from Natural Language Toolkit'\n",
      "#dataframe_description = 'Corpus of Historical American English, Brigham Young University (Academic license)'\n",
      "\n",
      "data_path = 'data'\n",
      "\n",
      "import pandas as pd\n",
      "import os\n",
      "\n",
      "nb_path = 'letter_distributions'\n",
      "\n",
      "\n",
      "words = pd.read_pickle(data_path + \"/\" + dataframe_base + \".pickle\")\n",
      "\n",
      "os.chdir(nb_path)"
     ],
     "language": "python",
     "metadata": {},
     "outputs": [
      {
       "ename": "SyntaxError",
       "evalue": "EOL while scanning string literal (<ipython-input-8-94f34c3f0f27>, line 2)",
       "output_type": "pyerr",
       "traceback": [
        "\u001b[1;36m  File \u001b[1;32m\"<ipython-input-8-94f34c3f0f27>\"\u001b[1;36m, line \u001b[1;32m2\u001b[0m\n\u001b[1;33m    dataframe_description = 'Brown Corpus\u001b[0m\n\u001b[1;37m                                         ^\u001b[0m\n\u001b[1;31mSyntaxError\u001b[0m\u001b[1;31m:\u001b[0m EOL while scanning string literal\n"
       ]
      }
     ],
     "prompt_number": 8
    },
    {
     "cell_type": "raw",
     "metadata": {},
     "source": [
      "create letters dataframe, with frequency of letters in number of bins determined by user"
     ]
    },
    {
     "cell_type": "code",
     "collapsed": false,
     "input": [
      "b_len = 5 #number of bins, decided by user\n",
      "\n",
      "letters_pickle = 'letters_' + dataframe_base + '_' + str(b_len) + '.pickle'\n",
      "\n",
      "if not os.path.isfile(letters_pickle):\n",
      "\n",
      "    print 'Calculating letters dataframe.'\n",
      "    p_step = b_len # to facilitate readability; cross product\n",
      "    \n",
      "    # dataframe for results; z is just a temporary list to facilitate dataframe initialization\n",
      "    z = [0] * b_len\n",
      "    letters = pd.DataFrame({'a': z, 'b': z, 'c': z, 'd': z, 'e': z, 'f': z, 'g': z, \n",
      "                            'h': z, 'i': z, 'j': z, 'k': z, 'l': z, 'm': z, 'n': z, \n",
      "                            'o': z, 'p': z, 'q': z, 'r': z, 's': z, 't': z, 'u': z, \n",
      "                            'v': z, 'w': z, 'x': z, 'y': z, 'z': z})\n",
      "    \n",
      "    for i in range(len(words)):\n",
      "        freq = words.freq.iloc[i]\n",
      "        wd = words.word.iloc[i]\n",
      "        p_len = len(wd)\n",
      "        b_step = p_len\n",
      "        bp_mult = b_len * p_len #use multiple instead of range of 0 to 1 (or 0 to 100) to avoid floats not adding together exactly\n",
      "        b_curnum = 0 # current bin\n",
      "        p_curnum = 0 # current letter\n",
      "        curmult = 0 # current position of algorithm from 0 to bp_mult\n",
      "        temp = 0\n",
      "    \n",
      "        if p_len > 1:\n",
      "            while curmult < bp_mult:\n",
      "                temp += 1\n",
      "                overlap = min((b_curnum + 1) * b_step, (p_curnum + 1) * p_step) - curmult\n",
      "                #try:\n",
      "                letters[wd[p_curnum]][b_curnum] += freq * overlap / bp_mult\n",
      "                curmult += overlap\n",
      "                if (b_curnum + 1) * b_step == curmult:\n",
      "                    b_curnum += 1\n",
      "                if (p_curnum + 1) * p_step == curmult:\n",
      "                    p_curnum += 1\n",
      "                if temp >= 100:\n",
      "                    print \"Error; more than 100 iterations on word \" + wd\n",
      "                    break\n",
      "        \n",
      "        letters.to_pickle(letters_pickle)\n",
      "\n",
      "else:\n",
      "    print 'Reading from pickle.'\n",
      "    letters = pd.from_pickle(letters_pickle)\n",
      "\n"
     ],
     "language": "python",
     "metadata": {},
     "outputs": [
      {
       "output_type": "stream",
       "stream": "stdout",
       "text": [
        "Calculating letters dataframe.\n"
       ]
      }
     ],
     "prompt_number": 2
    },
    {
     "cell_type": "code",
     "collapsed": false,
     "input": [
      "# Calculate normalized profile and integrate area\n",
      "\n",
      "alphabet = 'abcdefghijklmnopqrstuvwxyz'\n",
      "maxes = {}\n",
      "freqdict = {}\n",
      "integral = {}\n",
      "max_letter = ''\n",
      "total_freq = 0\n",
      "overall_max = 0\n",
      "temp_max = 0\n",
      "max_integral = 0\n",
      "equal_area_max = 0\n",
      "\n",
      "for ltr in alphabet:\n",
      "    maxes[ltr] = letters[ltr].max()\n",
      "    freqdict[ltr] = letters[ltr].sum()\n",
      "    overall_max = max(overall_max, letters[ltr].max())\n",
      "    total_freq += freqdict[ltr]\n",
      "    if freqdict[ltr] > temp_max:\n",
      "        temp_max = freqdict[ltr]\n",
      "        max_letter = ltr\n",
      "    \n",
      "letters_norm = letters.copy()\n",
      "    \n",
      "for ltr in alphabet:\n",
      "    temp = 0\n",
      "    for rw in range(len(letters_norm)):\n",
      "        letters_norm[ltr].iloc[rw] *= 100\n",
      "        letters_norm[ltr].iloc[rw] /= maxes[ltr]\n",
      "        temp += letters_norm[ltr].iloc[rw]\n",
      "    integral[ltr] = temp\n",
      "    max_integral = max(max_integral, temp)\n",
      "    \n",
      "letters_equal_area = letters_norm.copy()\n",
      "\n",
      "for ltr in alphabet:\n",
      "    for rw in range(len(letters_equal_area)):\n",
      "        letters_equal_area[ltr].iloc[rw] *= max_integral\n",
      "        letters_equal_area[ltr].iloc[rw] /= integral[ltr]\n",
      "    equal_area_max = max(equal_area_max, letters_equal_area[ltr].max())\n"
     ],
     "language": "python",
     "metadata": {},
     "outputs": [],
     "prompt_number": 29
    },
    {
     "cell_type": "code",
     "collapsed": false,
     "input": [
      "plot_name = 'letters_' + dataframe_base + '_' + str(b_len) + '.png'\n",
      "\n",
      "column_list = list('abcdefghijklmnopqrstuvwxyz')\n",
      "x_length = b_len\n",
      "\n",
      "import matplotlib.pyplot as plt\n",
      "import matplotlib.colors as colors\n",
      "import matplotlib.cm as cmx\n",
      "import numpy as np\n",
      "\n",
      "themap = plt.get_cmap('gist_heat') \n",
      "cNorm  = colors.Normalize(vmin=0, vmax=x_length)\n",
      "scalarMap = cmx.ScalarMappable(norm=cNorm, cmap=themap) # \n",
      "\n",
      "figure(num=None, figsize=(15, 60), dpi=150, facecolor='w', edgecolor='k')\n",
      "plt.title(\"Title\", size=18, color='k')\n",
      "for pos in range(len(column_list)):\n",
      "    ltr = column_list[pos]\n",
      "    plt.subplot(len(column_list), 1, pos+1)\n",
      "    plt.plot(range(x_length), letters_equal_area[ltr], color='k', linewidth = 3, label = ltr)\n",
      "    # maps floats 0 to 9 to color map\n",
      "    fill_color = scalarMap.to_rgba(9 - 10*(1.0 * maxes[ltr] / overall_max)) \n",
      "    plt.fill_between(range(x_length), letters_equal_area[ltr], color=fill_color, interpolate=True)\n",
      "    #plt.xlim(0,x_length)\n",
      "    plt.ylim(0,equal_area_max)\n",
      "    #plt.xticks(scipy.arange(1880,2012,10))\n",
      "    plt.tick_params(axis='x',       # changes apply to the x-axis\n",
      "                    which='both',      # both major and minor ticks are affected\n",
      "                    bottom='off',      # ticks along the bottom edge are off\n",
      "                    top='off',         # ticks along the top edge are off\n",
      "                    labelbottom='off')\n",
      "    plt.tick_params(axis='y',       # changes apply to the x-axis\n",
      "                    which='both',      # both major and minor ticks are affected\n",
      "                    left='off',      # ticks along the bottom edge are off\n",
      "                    right='off',         # ticks along the top edge are off\n",
      "                    labelleft='off')\n",
      "    #plt.xlabel('Year', size=15)\n",
      "    plt.ylabel(ltr, size=15)\n",
      "    plt.axis[\"right\"].set_visible(False)\n",
      "    plt.axis.\n",
      "plt.savefig(plot_name)\n",
      "plt.show()\n",
      "plt.close()\n",
      "\n",
      "\n",
      "\n"
     ],
     "language": "python",
     "metadata": {},
     "outputs": [
      {
       "ename": "TypeError",
       "evalue": "'function' object has no attribute '__getitem__'",
       "output_type": "pyerr",
       "traceback": [
        "\u001b[1;31m---------------------------------------------------------------------------\u001b[0m\n\u001b[1;31mTypeError\u001b[0m                                 Traceback (most recent call last)",
        "\u001b[1;32m<ipython-input-46-27c8456dd60d>\u001b[0m in \u001b[0;36m<module>\u001b[1;34m()\u001b[0m\n\u001b[0;32m     37\u001b[0m     \u001b[1;31m#plt.xlabel('Year', size=15)\u001b[0m\u001b[1;33m\u001b[0m\u001b[1;33m\u001b[0m\u001b[0m\n\u001b[0;32m     38\u001b[0m     \u001b[0mplt\u001b[0m\u001b[1;33m.\u001b[0m\u001b[0mylabel\u001b[0m\u001b[1;33m(\u001b[0m\u001b[0mltr\u001b[0m\u001b[1;33m,\u001b[0m \u001b[0msize\u001b[0m\u001b[1;33m=\u001b[0m\u001b[1;36m15\u001b[0m\u001b[1;33m)\u001b[0m\u001b[1;33m\u001b[0m\u001b[0m\n\u001b[1;32m---> 39\u001b[1;33m     \u001b[0mplt\u001b[0m\u001b[1;33m.\u001b[0m\u001b[0maxis\u001b[0m\u001b[1;33m[\u001b[0m\u001b[1;34m\"right\"\u001b[0m\u001b[1;33m]\u001b[0m\u001b[1;33m.\u001b[0m\u001b[0mset_visible\u001b[0m\u001b[1;33m(\u001b[0m\u001b[0mFalse\u001b[0m\u001b[1;33m)\u001b[0m\u001b[1;33m\u001b[0m\u001b[0m\n\u001b[0m\u001b[0;32m     40\u001b[0m \u001b[0mplt\u001b[0m\u001b[1;33m.\u001b[0m\u001b[0msavefig\u001b[0m\u001b[1;33m(\u001b[0m\u001b[0mplot_name\u001b[0m\u001b[1;33m)\u001b[0m\u001b[1;33m\u001b[0m\u001b[0m\n\u001b[0;32m     41\u001b[0m \u001b[0mplt\u001b[0m\u001b[1;33m.\u001b[0m\u001b[0mshow\u001b[0m\u001b[1;33m(\u001b[0m\u001b[1;33m)\u001b[0m\u001b[1;33m\u001b[0m\u001b[0m\n",
        "\u001b[1;31mTypeError\u001b[0m: 'function' object has no attribute '__getitem__'"
       ]
      },
      {
       "metadata": {},
       "output_type": "display_data",
       "png": "[encoded data removed]",
       "text": [
        "<matplotlib.figure.Figure at 0xb594c18>"
       ]
      }
     ],
     "prompt_number": 46
    },
    {
     "cell_type": "code",
     "collapsed": false,
     "input": [
      "fig = pyplot.figure(figsize=(8,3))\n",
      "ax1 = fig.add_axes([0.05, 0.80, 0.9, 0.15])\n",
      "\n",
      "cmap = mpl.cm.gist_heat_r\n",
      "norm = mpl.colors.Normalize(vmin=0, vmax=freqdict[max_letter] * 100 / total_freq)\n",
      "\n",
      "cb1 = mpl.colorbar.ColorbarBase(ax1, cmap=cmap,\n",
      "                                   norm=norm,\n",
      "                                   orientation='horizontal')\n",
      "cb1.set_label('Percent of overall frequency of letter')\n",
      "\n",
      "plt.show()"
     ],
     "language": "python",
     "metadata": {},
     "outputs": [
      {
       "metadata": {},
       "output_type": "display_data",
       "png": "[encoded data removed]",
       "text": [
        "<matplotlib.figure.Figure at 0xbac32e8>"
       ]
      }
     ],
     "prompt_number": 33
    },
    {
     "cell_type": "code",
     "collapsed": false,
     "input": [
      "fig = pltfigure(num=None, figsize=(15, 60), dpi=150, facecolor='w', edgecolor='k')\n",
      "fig.title(\"Title\", size=18, color='k')\n",
      "for pos in range(len(column_list)):\n",
      "    ltr = column_list[pos]\n",
      "    plt.subplot(len(column_list), 1, pos+1)\n",
      "    plt.plot(range(x_length), letters_equal_area[ltr], color='k', linewidth = 3, label = ltr)\n",
      "    # maps floats 0 to 9 to color map\n",
      "    fill_color = scalarMap.to_rgba(9 - 10*(1.0 * maxes[ltr] / overall_max)) \n",
      "    plt.fill_between(range(x_length), letters_equal_area[ltr], color=fill_color, interpolate=True)\n",
      "    #plt.xlim(0,x_length)\n",
      "    plt.ylim(0,equal_area_max)\n",
      "    #plt.xticks(scipy.arange(1880,2012,10))\n",
      "    plt.tick_params(axis='x',       # changes apply to the x-axis\n",
      "                    which='both',      # both major and minor ticks are affected\n",
      "                    bottom='off',      # ticks along the bottom edge are off\n",
      "                    top='off',         # ticks along the top edge are off\n",
      "                    labelbottom='off')\n",
      "    plt.tick_params(axis='y',       # changes apply to the x-axis\n",
      "                    which='both',      # both major and minor ticks are affected\n",
      "                    left='off',      # ticks along the bottom edge are off\n",
      "                    right='off',         # ticks along the top edge are off\n",
      "                    labelleft='off')\n",
      "    #plt.xlabel('Year', size=15)\n",
      "    plt.ylabel(ltr, size=15)\n",
      "    plt.axis[\"right\"].set_visible(False)\n",
      "    plt.axis.\n",
      "plt.savefig(plot_name)\n",
      "plt.show()\n",
      "plt.close()"
     ],
     "language": "python",
     "metadata": {},
     "outputs": [
      {
       "metadata": {},
       "output_type": "pyout",
       "prompt_number": 26,
       "text": [
        "38725"
       ]
      }
     ],
     "prompt_number": 26
    },
    {
     "cell_type": "code",
     "collapsed": false,
     "input": [
      "overall_max"
     ],
     "language": "python",
     "metadata": {},
     "outputs": [
      {
       "metadata": {},
       "output_type": "pyout",
       "prompt_number": 27,
       "text": [
        "38725"
       ]
      }
     ],
     "prompt_number": 27
    },
    {
     "cell_type": "code",
     "collapsed": false,
     "input": [],
     "language": "python",
     "metadata": {},
     "outputs": []
    }
   ],
   "metadata": {}
  }
 ]
}