{
 "metadata": {
  "name": "",
  "signature": "sha256:749df4ebbc8a5e3db779db92a2245ba1378495bf08b57128dd47073ce64d89a0"
 },
 "nbformat": 3,
 "nbformat_minor": 0,
 "worksheets": [
  {
   "cells": [
    {
     "cell_type": "markdown",
     "metadata": {},
     "source": [
      "## Analysis of \"trendiness\" by peak height divided by width at 50% height:##"
     ]
    },
    {
     "cell_type": "code",
     "collapsed": false,
     "input": [
      "import pandas as pd\n",
      "import time\n",
      "from math import ceil\n",
      "import pickle\n",
      "import matplotlib.pyplot as plt\n",
      "from math import floor, log10\n",
      "%matplotlib inline\n",
      "\n",
      "class progress_bar: \n",
      "    def __init__(self, loop_length):\n",
      "        import time\n",
      "        self.start = time.time()\n",
      "        self.increment_size = 100.0/loop_length\n",
      "        self.curr_count = 0\n",
      "        self.curr_pct = 0\n",
      "        self.overflow = False\n",
      "        print '% complete:',\n",
      "    \n",
      "    def increment(self):\n",
      "        self.curr_count += self.increment_size\n",
      "        if int(self.curr_count) > self.curr_pct:\n",
      "            self.curr_pct = int(self.curr_count)\n",
      "            if self.curr_pct <= 100:\n",
      "                print self.curr_pct, \n",
      "            elif self.overflow == False:\n",
      "                print \"\\n*!* Count has gone over 100%; likely either due to:\\n*!*   - an error in the loop_length specified when \" + \\\n",
      "                      \"progress_bar was instantiated\\n*!*   - an error in the placement of the increment() function\"\n",
      "                print '*!* Elapsed time when progress bar full: %0.1f seconds.' % (time.time() - self.start)\n",
      "                self.overflow = True\n",
      "\n",
      "    def finish(self):\n",
      "        if self.curr_pct == 99:\n",
      "            print \"100\", # this is a cheat, because rounding sometimes makes the maximum count 99. One day I'll fix this bug.\n",
      "        if self.overflow == True:\n",
      "            print '*!* Elapsed time after end of loop: %0.1f seconds.\\n' % (time.time() - self.start)\n",
      "        else:\n",
      "            print '\\nElapsed time: %0.1f seconds.\\n' % (time.time() - self.start)\n",
      "            \n",
      "# used to round limit of y axis up to second-most-significant digit\n",
      "def determine_y_limit(x):                      \n",
      "    significance = int(floor((log10(x))))\n",
      "    val = floor(x / (10 ** (significance - 1))) + 1\n",
      "    val = val * (10 ** (significance - 1))\n",
      "    return val"
     ],
     "language": "python",
     "metadata": {},
     "outputs": [],
     "prompt_number": 1
    },
    {
     "cell_type": "code",
     "collapsed": false,
     "input": [
      "df = pd.read_pickle(\"../data_user_pickle_csv/coha_1.pickle\")\n",
      "df = df[df.nonalpha == False]\n",
      "df['year'] = df.decade + 5 # middle of decade\n",
      "df = df[['word', 'year', 'pct']]\n",
      "df.sort(['word', 'year'], ascending=True, inplace=True)\n",
      "print df.head()\n",
      "words = df.word.unique()\n",
      "print len(words)"
     ],
     "language": "python",
     "metadata": {},
     "outputs": [
      {
       "output_type": "stream",
       "stream": "stdout",
       "text": [
        "  word  year       pct\n",
        "0    a  1815  1.763519\n",
        "1    a  1825  1.901462\n",
        "2    a  1835  2.061233\n",
        "3    a  1845  2.073233\n",
        "4    a  1855  2.069824\n",
        "337085"
       ]
      },
      {
       "output_type": "stream",
       "stream": "stdout",
       "text": [
        "\n"
       ]
      }
     ],
     "prompt_number": 2
    },
    {
     "cell_type": "code",
     "collapsed": false,
     "input": [
      "# remove any whose count is 20, i.e. never have a zero value\n",
      "dfcounts = pd.DataFrame(df.groupby('word').pct.count())\n",
      "wordcounts20 = list(dfcounts[dfcounts.pct == 20].index)\n",
      "df = df[~df.word.isin(wordcounts20)]"
     ],
     "language": "python",
     "metadata": {},
     "outputs": [],
     "prompt_number": 3
    },
    {
     "cell_type": "code",
     "collapsed": false,
     "input": [
      "# make a set of top 1000 words for each year, both by max and by total\n",
      "topwords = set()\n",
      "for i in range(1815, 2015, 10):\n",
      "    dftemp = df[df.year == i]\n",
      "    dftempmax = dftemp.groupby('word')['pct'].max()\n",
      "    dftempmax.sort()\n",
      "    dftemptotal = dftemp.groupby('word')['pct'].sum()\n",
      "    dftemptotal.sort()\n",
      "    topwords.update(dftempmax[-1000:].index)\n",
      "    topwords.update(dftemptotal[-1000:].index)\n",
      "print len(topwords)\n",
      "df = df[df.word.isin(topwords)]"
     ],
     "language": "python",
     "metadata": {},
     "outputs": [
      {
       "output_type": "stream",
       "stream": "stdout",
       "text": [
        "8044\n"
       ]
      }
     ],
     "prompt_number": 4
    },
    {
     "cell_type": "code",
     "collapsed": false,
     "input": [
      "# Add missing years as pct 0\n",
      "\n",
      "pbar = progress_bar(len(df))\n",
      "\n",
      "# 1000 words at a time\n",
      "bin_size = 1000\n",
      "bins = int(ceil(len(words)/bin_size)) + 1\n",
      "new_word = []\n",
      "new_year = []\n",
      "new_pct = []\n",
      "for i in range(bins):\n",
      "    loopwords = words[i*bin_size:(i+1)*bin_size]\n",
      "    loopdf = df[df.word.isin(loopwords)]\n",
      "    for j in range(len(loopdf)):\n",
      "        word = loopdf.word.iloc[j]\n",
      "        year = loopdf.year.iloc[j]\n",
      "        pbar.increment()\n",
      "        if j == 0 or word != loopdf.word.iloc[j-1]:\n",
      "            cur_yr = 1815\n",
      "        else:\n",
      "            cur_yr += 10\n",
      "        while cur_yr < year:\n",
      "            new_word.append(word)\n",
      "            new_year.append(cur_yr)\n",
      "            new_pct.append(0)\n",
      "            cur_yr += 10\n",
      "        if j == len(loopdf) - 1 or word != loopdf.word.iloc[j+1]:\n",
      "            while cur_yr <= 2005 and cur_yr != year:\n",
      "                new_word.append(word)\n",
      "                new_year.append(cur_yr)\n",
      "                new_pct.append(0)\n",
      "                cur_yr += 10\n",
      "pbar.finish()"
     ],
     "language": "python",
     "metadata": {},
     "outputs": [
      {
       "output_type": "stream",
       "stream": "stdout",
       "text": [
        "% complete: "
       ]
      },
      {
       "output_type": "stream",
       "stream": "stdout",
       "text": [
        "1 "
       ]
      },
      {
       "output_type": "stream",
       "stream": "stdout",
       "text": [
        "2 "
       ]
      },
      {
       "output_type": "stream",
       "stream": "stdout",
       "text": [
        "3 "
       ]
      },
      {
       "output_type": "stream",
       "stream": "stdout",
       "text": [
        "4 "
       ]
      },
      {
       "output_type": "stream",
       "stream": "stdout",
       "text": [
        "5 "
       ]
      },
      {
       "output_type": "stream",
       "stream": "stdout",
       "text": [
        "6 "
       ]
      },
      {
       "output_type": "stream",
       "stream": "stdout",
       "text": [
        "7 "
       ]
      },
      {
       "output_type": "stream",
       "stream": "stdout",
       "text": [
        "8 "
       ]
      },
      {
       "output_type": "stream",
       "stream": "stdout",
       "text": [
        "9 "
       ]
      },
      {
       "output_type": "stream",
       "stream": "stdout",
       "text": [
        "10 "
       ]
      },
      {
       "output_type": "stream",
       "stream": "stdout",
       "text": [
        "11 "
       ]
      },
      {
       "output_type": "stream",
       "stream": "stdout",
       "text": [
        "12 "
       ]
      },
      {
       "output_type": "stream",
       "stream": "stdout",
       "text": [
        "13 "
       ]
      },
      {
       "output_type": "stream",
       "stream": "stdout",
       "text": [
        "14 "
       ]
      },
      {
       "output_type": "stream",
       "stream": "stdout",
       "text": [
        "15 "
       ]
      },
      {
       "output_type": "stream",
       "stream": "stdout",
       "text": [
        "16 "
       ]
      },
      {
       "output_type": "stream",
       "stream": "stdout",
       "text": [
        "17 "
       ]
      },
      {
       "output_type": "stream",
       "stream": "stdout",
       "text": [
        "18 "
       ]
      },
      {
       "output_type": "stream",
       "stream": "stdout",
       "text": [
        "19 "
       ]
      },
      {
       "output_type": "stream",
       "stream": "stdout",
       "text": [
        "20 "
       ]
      },
      {
       "output_type": "stream",
       "stream": "stdout",
       "text": [
        "21 "
       ]
      },
      {
       "output_type": "stream",
       "stream": "stdout",
       "text": [
        "22 "
       ]
      },
      {
       "output_type": "stream",
       "stream": "stdout",
       "text": [
        "23 "
       ]
      },
      {
       "output_type": "stream",
       "stream": "stdout",
       "text": [
        "24 "
       ]
      },
      {
       "output_type": "stream",
       "stream": "stdout",
       "text": [
        "25 "
       ]
      },
      {
       "output_type": "stream",
       "stream": "stdout",
       "text": [
        "26 "
       ]
      },
      {
       "output_type": "stream",
       "stream": "stdout",
       "text": [
        "27 "
       ]
      },
      {
       "output_type": "stream",
       "stream": "stdout",
       "text": [
        "28 "
       ]
      },
      {
       "output_type": "stream",
       "stream": "stdout",
       "text": [
        "29 "
       ]
      },
      {
       "output_type": "stream",
       "stream": "stdout",
       "text": [
        "30 "
       ]
      },
      {
       "output_type": "stream",
       "stream": "stdout",
       "text": [
        "31 "
       ]
      },
      {
       "output_type": "stream",
       "stream": "stdout",
       "text": [
        "32 "
       ]
      },
      {
       "output_type": "stream",
       "stream": "stdout",
       "text": [
        "33 "
       ]
      },
      {
       "output_type": "stream",
       "stream": "stdout",
       "text": [
        "34 "
       ]
      },
      {
       "output_type": "stream",
       "stream": "stdout",
       "text": [
        "35 "
       ]
      },
      {
       "output_type": "stream",
       "stream": "stdout",
       "text": [
        "36 "
       ]
      },
      {
       "output_type": "stream",
       "stream": "stdout",
       "text": [
        "37 "
       ]
      },
      {
       "output_type": "stream",
       "stream": "stdout",
       "text": [
        "38 "
       ]
      },
      {
       "output_type": "stream",
       "stream": "stdout",
       "text": [
        "39 "
       ]
      },
      {
       "output_type": "stream",
       "stream": "stdout",
       "text": [
        "40 "
       ]
      },
      {
       "output_type": "stream",
       "stream": "stdout",
       "text": [
        "41 "
       ]
      },
      {
       "output_type": "stream",
       "stream": "stdout",
       "text": [
        "42 "
       ]
      },
      {
       "output_type": "stream",
       "stream": "stdout",
       "text": [
        "43 "
       ]
      },
      {
       "output_type": "stream",
       "stream": "stdout",
       "text": [
        "44 "
       ]
      },
      {
       "output_type": "stream",
       "stream": "stdout",
       "text": [
        "45 "
       ]
      },
      {
       "output_type": "stream",
       "stream": "stdout",
       "text": [
        "46 "
       ]
      },
      {
       "output_type": "stream",
       "stream": "stdout",
       "text": [
        "47 "
       ]
      },
      {
       "output_type": "stream",
       "stream": "stdout",
       "text": [
        "48 "
       ]
      },
      {
       "output_type": "stream",
       "stream": "stdout",
       "text": [
        "49 "
       ]
      },
      {
       "output_type": "stream",
       "stream": "stdout",
       "text": [
        "50 "
       ]
      },
      {
       "output_type": "stream",
       "stream": "stdout",
       "text": [
        "51 "
       ]
      },
      {
       "output_type": "stream",
       "stream": "stdout",
       "text": [
        "52 "
       ]
      },
      {
       "output_type": "stream",
       "stream": "stdout",
       "text": [
        "53 "
       ]
      },
      {
       "output_type": "stream",
       "stream": "stdout",
       "text": [
        "54 "
       ]
      },
      {
       "output_type": "stream",
       "stream": "stdout",
       "text": [
        "55 "
       ]
      },
      {
       "output_type": "stream",
       "stream": "stdout",
       "text": [
        "56 "
       ]
      },
      {
       "output_type": "stream",
       "stream": "stdout",
       "text": [
        "57 "
       ]
      },
      {
       "output_type": "stream",
       "stream": "stdout",
       "text": [
        "58 "
       ]
      },
      {
       "output_type": "stream",
       "stream": "stdout",
       "text": [
        "59 "
       ]
      },
      {
       "output_type": "stream",
       "stream": "stdout",
       "text": [
        "60 "
       ]
      },
      {
       "output_type": "stream",
       "stream": "stdout",
       "text": [
        "61 "
       ]
      },
      {
       "output_type": "stream",
       "stream": "stdout",
       "text": [
        "62 "
       ]
      },
      {
       "output_type": "stream",
       "stream": "stdout",
       "text": [
        "63 "
       ]
      },
      {
       "output_type": "stream",
       "stream": "stdout",
       "text": [
        "64 "
       ]
      },
      {
       "output_type": "stream",
       "stream": "stdout",
       "text": [
        "65 "
       ]
      },
      {
       "output_type": "stream",
       "stream": "stdout",
       "text": [
        "66 "
       ]
      },
      {
       "output_type": "stream",
       "stream": "stdout",
       "text": [
        "67 "
       ]
      },
      {
       "output_type": "stream",
       "stream": "stdout",
       "text": [
        "68 "
       ]
      },
      {
       "output_type": "stream",
       "stream": "stdout",
       "text": [
        "69 "
       ]
      },
      {
       "output_type": "stream",
       "stream": "stdout",
       "text": [
        "70 "
       ]
      },
      {
       "output_type": "stream",
       "stream": "stdout",
       "text": [
        "71 "
       ]
      },
      {
       "output_type": "stream",
       "stream": "stdout",
       "text": [
        "72 "
       ]
      },
      {
       "output_type": "stream",
       "stream": "stdout",
       "text": [
        "73 "
       ]
      },
      {
       "output_type": "stream",
       "stream": "stdout",
       "text": [
        "74 "
       ]
      },
      {
       "output_type": "stream",
       "stream": "stdout",
       "text": [
        "75 "
       ]
      },
      {
       "output_type": "stream",
       "stream": "stdout",
       "text": [
        "76 "
       ]
      },
      {
       "output_type": "stream",
       "stream": "stdout",
       "text": [
        "77 "
       ]
      },
      {
       "output_type": "stream",
       "stream": "stdout",
       "text": [
        "78 "
       ]
      },
      {
       "output_type": "stream",
       "stream": "stdout",
       "text": [
        "79 "
       ]
      },
      {
       "output_type": "stream",
       "stream": "stdout",
       "text": [
        "80 "
       ]
      },
      {
       "output_type": "stream",
       "stream": "stdout",
       "text": [
        "81 "
       ]
      },
      {
       "output_type": "stream",
       "stream": "stdout",
       "text": [
        "82 "
       ]
      },
      {
       "output_type": "stream",
       "stream": "stdout",
       "text": [
        "83 "
       ]
      },
      {
       "output_type": "stream",
       "stream": "stdout",
       "text": [
        "84 "
       ]
      },
      {
       "output_type": "stream",
       "stream": "stdout",
       "text": [
        "85 "
       ]
      },
      {
       "output_type": "stream",
       "stream": "stdout",
       "text": [
        "86 "
       ]
      },
      {
       "output_type": "stream",
       "stream": "stdout",
       "text": [
        "87 "
       ]
      },
      {
       "output_type": "stream",
       "stream": "stdout",
       "text": [
        "88 "
       ]
      },
      {
       "output_type": "stream",
       "stream": "stdout",
       "text": [
        "89 "
       ]
      },
      {
       "output_type": "stream",
       "stream": "stdout",
       "text": [
        "90 "
       ]
      },
      {
       "output_type": "stream",
       "stream": "stdout",
       "text": [
        "91 "
       ]
      },
      {
       "output_type": "stream",
       "stream": "stdout",
       "text": [
        "92 "
       ]
      },
      {
       "output_type": "stream",
       "stream": "stdout",
       "text": [
        "93 "
       ]
      },
      {
       "output_type": "stream",
       "stream": "stdout",
       "text": [
        "94 "
       ]
      },
      {
       "output_type": "stream",
       "stream": "stdout",
       "text": [
        "95 "
       ]
      },
      {
       "output_type": "stream",
       "stream": "stdout",
       "text": [
        "96 "
       ]
      },
      {
       "output_type": "stream",
       "stream": "stdout",
       "text": [
        "97 "
       ]
      },
      {
       "output_type": "stream",
       "stream": "stdout",
       "text": [
        "98 "
       ]
      },
      {
       "output_type": "stream",
       "stream": "stdout",
       "text": [
        "99 "
       ]
      },
      {
       "output_type": "stream",
       "stream": "stdout",
       "text": [
        "100 \n",
        "Elapsed time: 17.7 seconds.\n",
        "\n"
       ]
      }
     ],
     "prompt_number": 5
    },
    {
     "cell_type": "code",
     "collapsed": false,
     "input": [
      "print len(new_word)\n",
      "print len(df)\n",
      "df = df.append(pd.DataFrame({'word':new_word, 'year':new_year, 'pct':new_pct}), ignore_index = True)\n",
      "df.sort(['word', 'year'], ascending=True, inplace=True)\n",
      "df.reset_index(drop=True, inplace=True)\n",
      "df.to_pickle('coha_1_trendiness_checkpoint.pickle')"
     ],
     "language": "python",
     "metadata": {},
     "outputs": [
      {
       "output_type": "stream",
       "stream": "stdout",
       "text": [
        "38407\n",
        "106758\n"
       ]
      }
     ],
     "prompt_number": 6
    },
    {
     "cell_type": "code",
     "collapsed": false,
     "input": [
      "# sanity check\n",
      "df_orig = pd.read_pickle(\"../data_user_pickle_csv/coha_1.pickle\")\n",
      "print df_orig[df_orig.word==\"dukakis\"]\n",
      "print df[df.word==\"dukakis\"]"
     ],
     "language": "python",
     "metadata": {},
     "outputs": [
      {
       "output_type": "stream",
       "stream": "stdout",
       "text": [
        "           word  freq  decade nonalpha  length       pct\n",
        "650008  dukakis    10    1970    False       7  0.000043\n",
        "650009  dukakis   570    1980    False       7  0.002344\n",
        "650010  dukakis    70    1990    False       7  0.000260\n",
        "650011  dukakis    28    2000    False       7  0.000098\n",
        "            pct     word  year\n",
        "40608  0.000000  dukakis  1815\n",
        "40609  0.000000  dukakis  1825\n",
        "40610  0.000000  dukakis  1835\n",
        "40611  0.000000  dukakis  1845\n",
        "40612  0.000000  dukakis  1855\n",
        "40613  0.000000  dukakis  1865\n",
        "40614  0.000000  dukakis  1875\n",
        "40615  0.000000  dukakis  1885\n",
        "40616  0.000000  dukakis  1895\n",
        "40617  0.000000  dukakis  1905\n",
        "40618  0.000000  dukakis  1915\n",
        "40619  0.000000  dukakis  1925\n",
        "40620  0.000000  dukakis  1935\n",
        "40621  0.000000  dukakis  1945\n",
        "40622  0.000000  dukakis  1955\n",
        "40623  0.000000  dukakis  1965\n",
        "40624  0.000043  dukakis  1975\n",
        "40625  0.002344  dukakis  1985\n",
        "40626  0.000260  dukakis  1995\n",
        "40627  0.000098  dukakis  2005\n"
       ]
      }
     ],
     "prompt_number": 7
    },
    {
     "cell_type": "code",
     "collapsed": false,
     "input": [
      "# add interpolated values for years ending in 0\n",
      "# so that peaks can be calculated for single-decade words\n",
      "\n",
      "pbar = progress_bar(len(df))\n",
      "\n",
      "# 10,000 rows at a time\n",
      "bin_size = 10000\n",
      "bins = int(ceil(len(df)/bin_size)) + 1\n",
      "new_word = []\n",
      "new_year = []\n",
      "new_pct = []\n",
      "for i in range(bins):\n",
      "    loopdf = df[i*bin_size:(i+1)*bin_size]\n",
      "    for j in range(len(loopdf)):\n",
      "        word = loopdf.word.iloc[j]\n",
      "        year = loopdf.year.iloc[j]\n",
      "        pbar.increment()\n",
      "        if j == 0 or word != loopdf.word.iloc[j-1]:\n",
      "            pass\n",
      "        else:\n",
      "            new_word.append(word)\n",
      "            new_year.append(year - 5)\n",
      "            avgpct = loopdf.pct.iloc[j]\n",
      "            avgpct += loopdf.pct.iloc[j-1]\n",
      "            avgpct /= 2\n",
      "            new_pct.append(avgpct)\n",
      "pbar.finish()"
     ],
     "language": "python",
     "metadata": {},
     "outputs": [
      {
       "output_type": "stream",
       "stream": "stdout",
       "text": [
        "% complete: "
       ]
      },
      {
       "output_type": "stream",
       "stream": "stdout",
       "text": [
        "1 "
       ]
      },
      {
       "output_type": "stream",
       "stream": "stdout",
       "text": [
        "2 "
       ]
      },
      {
       "output_type": "stream",
       "stream": "stdout",
       "text": [
        "3 "
       ]
      },
      {
       "output_type": "stream",
       "stream": "stdout",
       "text": [
        "4 "
       ]
      },
      {
       "output_type": "stream",
       "stream": "stdout",
       "text": [
        "5 "
       ]
      },
      {
       "output_type": "stream",
       "stream": "stdout",
       "text": [
        "6 "
       ]
      },
      {
       "output_type": "stream",
       "stream": "stdout",
       "text": [
        "7 "
       ]
      },
      {
       "output_type": "stream",
       "stream": "stdout",
       "text": [
        "8 "
       ]
      },
      {
       "output_type": "stream",
       "stream": "stdout",
       "text": [
        "9 "
       ]
      },
      {
       "output_type": "stream",
       "stream": "stdout",
       "text": [
        "10 "
       ]
      },
      {
       "output_type": "stream",
       "stream": "stdout",
       "text": [
        "11 "
       ]
      },
      {
       "output_type": "stream",
       "stream": "stdout",
       "text": [
        "12 "
       ]
      },
      {
       "output_type": "stream",
       "stream": "stdout",
       "text": [
        "13 "
       ]
      },
      {
       "output_type": "stream",
       "stream": "stdout",
       "text": [
        "14 "
       ]
      },
      {
       "output_type": "stream",
       "stream": "stdout",
       "text": [
        "15 "
       ]
      },
      {
       "output_type": "stream",
       "stream": "stdout",
       "text": [
        "16 "
       ]
      },
      {
       "output_type": "stream",
       "stream": "stdout",
       "text": [
        "17 "
       ]
      },
      {
       "output_type": "stream",
       "stream": "stdout",
       "text": [
        "18 "
       ]
      },
      {
       "output_type": "stream",
       "stream": "stdout",
       "text": [
        "19 "
       ]
      },
      {
       "output_type": "stream",
       "stream": "stdout",
       "text": [
        "20 "
       ]
      },
      {
       "output_type": "stream",
       "stream": "stdout",
       "text": [
        "21 "
       ]
      },
      {
       "output_type": "stream",
       "stream": "stdout",
       "text": [
        "22 "
       ]
      },
      {
       "output_type": "stream",
       "stream": "stdout",
       "text": [
        "23 "
       ]
      },
      {
       "output_type": "stream",
       "stream": "stdout",
       "text": [
        "24 "
       ]
      },
      {
       "output_type": "stream",
       "stream": "stdout",
       "text": [
        "25 "
       ]
      },
      {
       "output_type": "stream",
       "stream": "stdout",
       "text": [
        "26 "
       ]
      },
      {
       "output_type": "stream",
       "stream": "stdout",
       "text": [
        "27 "
       ]
      },
      {
       "output_type": "stream",
       "stream": "stdout",
       "text": [
        "28 "
       ]
      },
      {
       "output_type": "stream",
       "stream": "stdout",
       "text": [
        "29 "
       ]
      },
      {
       "output_type": "stream",
       "stream": "stdout",
       "text": [
        "30 "
       ]
      },
      {
       "output_type": "stream",
       "stream": "stdout",
       "text": [
        "31 "
       ]
      },
      {
       "output_type": "stream",
       "stream": "stdout",
       "text": [
        "32 "
       ]
      },
      {
       "output_type": "stream",
       "stream": "stdout",
       "text": [
        "33 "
       ]
      },
      {
       "output_type": "stream",
       "stream": "stdout",
       "text": [
        "34 "
       ]
      },
      {
       "output_type": "stream",
       "stream": "stdout",
       "text": [
        "35 "
       ]
      },
      {
       "output_type": "stream",
       "stream": "stdout",
       "text": [
        "36 "
       ]
      },
      {
       "output_type": "stream",
       "stream": "stdout",
       "text": [
        "37 "
       ]
      },
      {
       "output_type": "stream",
       "stream": "stdout",
       "text": [
        "38 "
       ]
      },
      {
       "output_type": "stream",
       "stream": "stdout",
       "text": [
        "39 "
       ]
      },
      {
       "output_type": "stream",
       "stream": "stdout",
       "text": [
        "40 "
       ]
      },
      {
       "output_type": "stream",
       "stream": "stdout",
       "text": [
        "41 "
       ]
      },
      {
       "output_type": "stream",
       "stream": "stdout",
       "text": [
        "42 "
       ]
      },
      {
       "output_type": "stream",
       "stream": "stdout",
       "text": [
        "43 "
       ]
      },
      {
       "output_type": "stream",
       "stream": "stdout",
       "text": [
        "44 "
       ]
      },
      {
       "output_type": "stream",
       "stream": "stdout",
       "text": [
        "45 "
       ]
      },
      {
       "output_type": "stream",
       "stream": "stdout",
       "text": [
        "46 "
       ]
      },
      {
       "output_type": "stream",
       "stream": "stdout",
       "text": [
        "47 "
       ]
      },
      {
       "output_type": "stream",
       "stream": "stdout",
       "text": [
        "48 "
       ]
      },
      {
       "output_type": "stream",
       "stream": "stdout",
       "text": [
        "49 "
       ]
      },
      {
       "output_type": "stream",
       "stream": "stdout",
       "text": [
        "50 "
       ]
      },
      {
       "output_type": "stream",
       "stream": "stdout",
       "text": [
        "51 "
       ]
      },
      {
       "output_type": "stream",
       "stream": "stdout",
       "text": [
        "52 "
       ]
      },
      {
       "output_type": "stream",
       "stream": "stdout",
       "text": [
        "53 "
       ]
      },
      {
       "output_type": "stream",
       "stream": "stdout",
       "text": [
        "54 "
       ]
      },
      {
       "output_type": "stream",
       "stream": "stdout",
       "text": [
        "55 "
       ]
      },
      {
       "output_type": "stream",
       "stream": "stdout",
       "text": [
        "56 "
       ]
      },
      {
       "output_type": "stream",
       "stream": "stdout",
       "text": [
        "57 "
       ]
      },
      {
       "output_type": "stream",
       "stream": "stdout",
       "text": [
        "58 "
       ]
      },
      {
       "output_type": "stream",
       "stream": "stdout",
       "text": [
        "59 "
       ]
      },
      {
       "output_type": "stream",
       "stream": "stdout",
       "text": [
        "60 "
       ]
      },
      {
       "output_type": "stream",
       "stream": "stdout",
       "text": [
        "61 "
       ]
      },
      {
       "output_type": "stream",
       "stream": "stdout",
       "text": [
        "62 "
       ]
      },
      {
       "output_type": "stream",
       "stream": "stdout",
       "text": [
        "63 "
       ]
      },
      {
       "output_type": "stream",
       "stream": "stdout",
       "text": [
        "64 "
       ]
      },
      {
       "output_type": "stream",
       "stream": "stdout",
       "text": [
        "65 "
       ]
      },
      {
       "output_type": "stream",
       "stream": "stdout",
       "text": [
        "66 "
       ]
      },
      {
       "output_type": "stream",
       "stream": "stdout",
       "text": [
        "67 "
       ]
      },
      {
       "output_type": "stream",
       "stream": "stdout",
       "text": [
        "68 "
       ]
      },
      {
       "output_type": "stream",
       "stream": "stdout",
       "text": [
        "69 "
       ]
      },
      {
       "output_type": "stream",
       "stream": "stdout",
       "text": [
        "70 "
       ]
      },
      {
       "output_type": "stream",
       "stream": "stdout",
       "text": [
        "71 "
       ]
      },
      {
       "output_type": "stream",
       "stream": "stdout",
       "text": [
        "72 "
       ]
      },
      {
       "output_type": "stream",
       "stream": "stdout",
       "text": [
        "73 "
       ]
      },
      {
       "output_type": "stream",
       "stream": "stdout",
       "text": [
        "74 "
       ]
      },
      {
       "output_type": "stream",
       "stream": "stdout",
       "text": [
        "75 "
       ]
      },
      {
       "output_type": "stream",
       "stream": "stdout",
       "text": [
        "76 "
       ]
      },
      {
       "output_type": "stream",
       "stream": "stdout",
       "text": [
        "77 "
       ]
      },
      {
       "output_type": "stream",
       "stream": "stdout",
       "text": [
        "78 "
       ]
      },
      {
       "output_type": "stream",
       "stream": "stdout",
       "text": [
        "79 "
       ]
      },
      {
       "output_type": "stream",
       "stream": "stdout",
       "text": [
        "80 "
       ]
      },
      {
       "output_type": "stream",
       "stream": "stdout",
       "text": [
        "81 "
       ]
      },
      {
       "output_type": "stream",
       "stream": "stdout",
       "text": [
        "82 "
       ]
      },
      {
       "output_type": "stream",
       "stream": "stdout",
       "text": [
        "83 "
       ]
      },
      {
       "output_type": "stream",
       "stream": "stdout",
       "text": [
        "84 "
       ]
      },
      {
       "output_type": "stream",
       "stream": "stdout",
       "text": [
        "85 "
       ]
      },
      {
       "output_type": "stream",
       "stream": "stdout",
       "text": [
        "86 "
       ]
      },
      {
       "output_type": "stream",
       "stream": "stdout",
       "text": [
        "87 "
       ]
      },
      {
       "output_type": "stream",
       "stream": "stdout",
       "text": [
        "88 "
       ]
      },
      {
       "output_type": "stream",
       "stream": "stdout",
       "text": [
        "89 "
       ]
      },
      {
       "output_type": "stream",
       "stream": "stdout",
       "text": [
        "90 "
       ]
      },
      {
       "output_type": "stream",
       "stream": "stdout",
       "text": [
        "91 "
       ]
      },
      {
       "output_type": "stream",
       "stream": "stdout",
       "text": [
        "92 "
       ]
      },
      {
       "output_type": "stream",
       "stream": "stdout",
       "text": [
        "93 "
       ]
      },
      {
       "output_type": "stream",
       "stream": "stdout",
       "text": [
        "94 "
       ]
      },
      {
       "output_type": "stream",
       "stream": "stdout",
       "text": [
        "95 "
       ]
      },
      {
       "output_type": "stream",
       "stream": "stdout",
       "text": [
        "96 "
       ]
      },
      {
       "output_type": "stream",
       "stream": "stdout",
       "text": [
        "97 "
       ]
      },
      {
       "output_type": "stream",
       "stream": "stdout",
       "text": [
        "98 "
       ]
      },
      {
       "output_type": "stream",
       "stream": "stdout",
       "text": [
        "99 "
       ]
      },
      {
       "output_type": "stream",
       "stream": "stdout",
       "text": [
        "100 \n",
        "Elapsed time: 24.9 seconds.\n",
        "\n"
       ]
      }
     ],
     "prompt_number": 8
    },
    {
     "cell_type": "code",
     "collapsed": false,
     "input": [
      "print len(new_word)\n",
      "print len(df)\n",
      "df = df.append(pd.DataFrame({'word':new_word, 'year':new_year, 'pct':new_pct}), ignore_index = True)\n",
      "df.sort(['word', 'year'], ascending=True, inplace=True)\n",
      "df.reset_index(drop=True, inplace=True)\n",
      "df.to_pickle('coha_1_trendiness.pickle')"
     ],
     "language": "python",
     "metadata": {},
     "outputs": [
      {
       "output_type": "stream",
       "stream": "stdout",
       "text": [
        "137108\n",
        "145165\n"
       ]
      }
     ],
     "prompt_number": 9
    },
    {
     "cell_type": "code",
     "collapsed": false,
     "input": [
      "# sanity check dforig = pd.read_pickle(\"../data_user_pickle_csv/coha_1.pickle\")\n",
      "df = pd.read_pickle(\"coha_1_trendiness.pickle\")\n",
      "df_orig = pd.read_pickle(\"../data_user_pickle_csv/coha_1.pickle\")\n",
      "print df_orig[df_orig.word == 'dukakis']\n",
      "print df[df.word == 'dukakis']"
     ],
     "language": "python",
     "metadata": {},
     "outputs": [
      {
       "output_type": "stream",
       "stream": "stdout",
       "text": [
        "           word  freq  decade nonalpha  length       pct\n",
        "650008  dukakis    10    1970    False       7  0.000043\n",
        "650009  dukakis   570    1980    False       7  0.002344\n",
        "650010  dukakis    70    1990    False       7  0.000260\n",
        "650011  dukakis    28    2000    False       7  0.000098\n",
        "            pct     word  year\n",
        "78975  0.000000  dukakis  1815\n",
        "78976  0.000000  dukakis  1820\n",
        "78977  0.000000  dukakis  1825\n",
        "78978  0.000000  dukakis  1830\n",
        "78979  0.000000  dukakis  1835\n",
        "78980  0.000000  dukakis  1840\n",
        "78981  0.000000  dukakis  1845\n",
        "78982  0.000000  dukakis  1850\n",
        "78983  0.000000  dukakis  1855\n",
        "78984  0.000000  dukakis  1860\n",
        "78985  0.000000  dukakis  1865\n",
        "78986  0.000000  dukakis  1870\n",
        "78987  0.000000  dukakis  1875\n",
        "78988  0.000000  dukakis  1880\n",
        "78989  0.000000  dukakis  1885\n",
        "78990  0.000000  dukakis  1890\n",
        "78991  0.000000  dukakis  1895\n",
        "78992  0.000000  dukakis  1900\n",
        "78993  0.000000  dukakis  1905\n",
        "78994  0.000000  dukakis  1910\n",
        "78995  0.000000  dukakis  1915\n",
        "78996  0.000000  dukakis  1920\n",
        "78997  0.000000  dukakis  1925\n",
        "78998  0.000000  dukakis  1930\n",
        "78999  0.000000  dukakis  1935\n",
        "79000  0.000000  dukakis  1940\n",
        "79001  0.000000  dukakis  1945\n",
        "79002  0.000000  dukakis  1950\n",
        "79003  0.000000  dukakis  1955\n",
        "79004  0.000000  dukakis  1960\n",
        "79005  0.000000  dukakis  1965\n",
        "79006  0.000022  dukakis  1970\n",
        "79007  0.000043  dukakis  1975\n",
        "79008  0.001194  dukakis  1980\n",
        "79009  0.002344  dukakis  1985\n",
        "79010  0.001302  dukakis  1990\n",
        "79011  0.000260  dukakis  1995\n",
        "79012  0.000179  dukakis  2000\n",
        "79013  0.000098  dukakis  2005\n"
       ]
      }
     ],
     "prompt_number": 10
    },
    {
     "cell_type": "markdown",
     "metadata": {},
     "source": [
      "## Calculate peaks ##"
     ]
    },
    {
     "cell_type": "code",
     "collapsed": false,
     "input": [
      "wordmax = df.groupby('word').pct.max()\n",
      "peak_height_cutoff = 0.5\n",
      "\n",
      "words = []\n",
      "years_start = []\n",
      "years_max = []\n",
      "years_end = []\n",
      "trendiness = []\n",
      "\n",
      "pbar = progress_bar(len(df))\n",
      "for i in range(len(df)):\n",
      "    pbar.increment()\n",
      "    year = df.year.iloc[i]\n",
      "    pct = df.pct.iloc[i]\n",
      "    if year == 1815:\n",
      "        word = df.word.iloc[i]\n",
      "        cur_max = wordmax[word]\n",
      "        year_start = 0\n",
      "        year_max = 0\n",
      "        year_end = 0\n",
      "        if pct < peak_height_cutoff * cur_max:\n",
      "            starts_below_cutoff = True\n",
      "        else:\n",
      "            starts_below_cutoff = False\n",
      "    if pct >= peak_height_cutoff * cur_max:\n",
      "        if year_start == 0 and dips_below_cutoff == True:\n",
      "            year_start = year\n",
      "        year_end = year\n",
      "    else:\n",
      "        dips_below_cutoff = True\n",
      "    if pct == cur_max:\n",
      "        year_max = year\n",
      "    if (year == 2005 and\n",
      "        starts_below_cutoff == True and\n",
      "        pct < peak_height_cutoff * cur_max): # equivalent of ends_below_cutoff\n",
      "        words.append(word)\n",
      "        years_start.append(year_start)\n",
      "        years_max.append(year_max)\n",
      "        years_end.append(year_end)\n",
      "        trendiness.append(cur_max / (year_end - year_start))\n",
      "           \n",
      "pbar.finish()\n"
     ],
     "language": "python",
     "metadata": {},
     "outputs": [
      {
       "output_type": "stream",
       "stream": "stdout",
       "text": [
        "% complete: "
       ]
      },
      {
       "output_type": "stream",
       "stream": "stdout",
       "text": [
        "1 "
       ]
      },
      {
       "output_type": "stream",
       "stream": "stdout",
       "text": [
        "2 "
       ]
      },
      {
       "output_type": "stream",
       "stream": "stdout",
       "text": [
        "3 "
       ]
      },
      {
       "output_type": "stream",
       "stream": "stdout",
       "text": [
        "4 "
       ]
      },
      {
       "output_type": "stream",
       "stream": "stdout",
       "text": [
        "5 "
       ]
      },
      {
       "output_type": "stream",
       "stream": "stdout",
       "text": [
        "6 "
       ]
      },
      {
       "output_type": "stream",
       "stream": "stdout",
       "text": [
        "7 "
       ]
      },
      {
       "output_type": "stream",
       "stream": "stdout",
       "text": [
        "8 "
       ]
      },
      {
       "output_type": "stream",
       "stream": "stdout",
       "text": [
        "9 "
       ]
      },
      {
       "output_type": "stream",
       "stream": "stdout",
       "text": [
        "10 "
       ]
      },
      {
       "output_type": "stream",
       "stream": "stdout",
       "text": [
        "11 "
       ]
      },
      {
       "output_type": "stream",
       "stream": "stdout",
       "text": [
        "12 "
       ]
      },
      {
       "output_type": "stream",
       "stream": "stdout",
       "text": [
        "13 "
       ]
      },
      {
       "output_type": "stream",
       "stream": "stdout",
       "text": [
        "14 "
       ]
      },
      {
       "output_type": "stream",
       "stream": "stdout",
       "text": [
        "15 "
       ]
      },
      {
       "output_type": "stream",
       "stream": "stdout",
       "text": [
        "16 "
       ]
      },
      {
       "output_type": "stream",
       "stream": "stdout",
       "text": [
        "17 "
       ]
      },
      {
       "output_type": "stream",
       "stream": "stdout",
       "text": [
        "18 "
       ]
      },
      {
       "output_type": "stream",
       "stream": "stdout",
       "text": [
        "19 "
       ]
      },
      {
       "output_type": "stream",
       "stream": "stdout",
       "text": [
        "20 "
       ]
      },
      {
       "output_type": "stream",
       "stream": "stdout",
       "text": [
        "21 "
       ]
      },
      {
       "output_type": "stream",
       "stream": "stdout",
       "text": [
        "22 "
       ]
      },
      {
       "output_type": "stream",
       "stream": "stdout",
       "text": [
        "23 "
       ]
      },
      {
       "output_type": "stream",
       "stream": "stdout",
       "text": [
        "24 "
       ]
      },
      {
       "output_type": "stream",
       "stream": "stdout",
       "text": [
        "25 "
       ]
      },
      {
       "output_type": "stream",
       "stream": "stdout",
       "text": [
        "26 "
       ]
      },
      {
       "output_type": "stream",
       "stream": "stdout",
       "text": [
        "27 "
       ]
      },
      {
       "output_type": "stream",
       "stream": "stdout",
       "text": [
        "28 "
       ]
      },
      {
       "output_type": "stream",
       "stream": "stdout",
       "text": [
        "29 "
       ]
      },
      {
       "output_type": "stream",
       "stream": "stdout",
       "text": [
        "30 "
       ]
      },
      {
       "output_type": "stream",
       "stream": "stdout",
       "text": [
        "31 "
       ]
      },
      {
       "output_type": "stream",
       "stream": "stdout",
       "text": [
        "32 "
       ]
      },
      {
       "output_type": "stream",
       "stream": "stdout",
       "text": [
        "33 "
       ]
      },
      {
       "output_type": "stream",
       "stream": "stdout",
       "text": [
        "34 "
       ]
      },
      {
       "output_type": "stream",
       "stream": "stdout",
       "text": [
        "35 "
       ]
      },
      {
       "output_type": "stream",
       "stream": "stdout",
       "text": [
        "36 "
       ]
      },
      {
       "output_type": "stream",
       "stream": "stdout",
       "text": [
        "37 "
       ]
      },
      {
       "output_type": "stream",
       "stream": "stdout",
       "text": [
        "38 "
       ]
      },
      {
       "output_type": "stream",
       "stream": "stdout",
       "text": [
        "39 "
       ]
      },
      {
       "output_type": "stream",
       "stream": "stdout",
       "text": [
        "40 "
       ]
      },
      {
       "output_type": "stream",
       "stream": "stdout",
       "text": [
        "41 "
       ]
      },
      {
       "output_type": "stream",
       "stream": "stdout",
       "text": [
        "42 "
       ]
      },
      {
       "output_type": "stream",
       "stream": "stdout",
       "text": [
        "43 "
       ]
      },
      {
       "output_type": "stream",
       "stream": "stdout",
       "text": [
        "44 "
       ]
      },
      {
       "output_type": "stream",
       "stream": "stdout",
       "text": [
        "45 "
       ]
      },
      {
       "output_type": "stream",
       "stream": "stdout",
       "text": [
        "46 "
       ]
      },
      {
       "output_type": "stream",
       "stream": "stdout",
       "text": [
        "47 "
       ]
      },
      {
       "output_type": "stream",
       "stream": "stdout",
       "text": [
        "48 "
       ]
      },
      {
       "output_type": "stream",
       "stream": "stdout",
       "text": [
        "49 "
       ]
      },
      {
       "output_type": "stream",
       "stream": "stdout",
       "text": [
        "50 "
       ]
      },
      {
       "output_type": "stream",
       "stream": "stdout",
       "text": [
        "51 "
       ]
      },
      {
       "output_type": "stream",
       "stream": "stdout",
       "text": [
        "52 "
       ]
      },
      {
       "output_type": "stream",
       "stream": "stdout",
       "text": [
        "53 "
       ]
      },
      {
       "output_type": "stream",
       "stream": "stdout",
       "text": [
        "54 "
       ]
      },
      {
       "output_type": "stream",
       "stream": "stdout",
       "text": [
        "55 "
       ]
      },
      {
       "output_type": "stream",
       "stream": "stdout",
       "text": [
        "56 "
       ]
      },
      {
       "output_type": "stream",
       "stream": "stdout",
       "text": [
        "57 "
       ]
      },
      {
       "output_type": "stream",
       "stream": "stdout",
       "text": [
        "58 "
       ]
      },
      {
       "output_type": "stream",
       "stream": "stdout",
       "text": [
        "59 "
       ]
      },
      {
       "output_type": "stream",
       "stream": "stdout",
       "text": [
        "60 "
       ]
      },
      {
       "output_type": "stream",
       "stream": "stdout",
       "text": [
        "61 "
       ]
      },
      {
       "output_type": "stream",
       "stream": "stdout",
       "text": [
        "62 "
       ]
      },
      {
       "output_type": "stream",
       "stream": "stdout",
       "text": [
        "63 "
       ]
      },
      {
       "output_type": "stream",
       "stream": "stdout",
       "text": [
        "64 "
       ]
      },
      {
       "output_type": "stream",
       "stream": "stdout",
       "text": [
        "65 "
       ]
      },
      {
       "output_type": "stream",
       "stream": "stdout",
       "text": [
        "66 "
       ]
      },
      {
       "output_type": "stream",
       "stream": "stdout",
       "text": [
        "67 "
       ]
      },
      {
       "output_type": "stream",
       "stream": "stdout",
       "text": [
        "68 "
       ]
      },
      {
       "output_type": "stream",
       "stream": "stdout",
       "text": [
        "69 "
       ]
      },
      {
       "output_type": "stream",
       "stream": "stdout",
       "text": [
        "70 "
       ]
      },
      {
       "output_type": "stream",
       "stream": "stdout",
       "text": [
        "71 "
       ]
      },
      {
       "output_type": "stream",
       "stream": "stdout",
       "text": [
        "72 "
       ]
      },
      {
       "output_type": "stream",
       "stream": "stdout",
       "text": [
        "73 "
       ]
      },
      {
       "output_type": "stream",
       "stream": "stdout",
       "text": [
        "74 "
       ]
      },
      {
       "output_type": "stream",
       "stream": "stdout",
       "text": [
        "75 "
       ]
      },
      {
       "output_type": "stream",
       "stream": "stdout",
       "text": [
        "76 "
       ]
      },
      {
       "output_type": "stream",
       "stream": "stdout",
       "text": [
        "77 "
       ]
      },
      {
       "output_type": "stream",
       "stream": "stdout",
       "text": [
        "78 "
       ]
      },
      {
       "output_type": "stream",
       "stream": "stdout",
       "text": [
        "79 "
       ]
      },
      {
       "output_type": "stream",
       "stream": "stdout",
       "text": [
        "80 "
       ]
      },
      {
       "output_type": "stream",
       "stream": "stdout",
       "text": [
        "81 "
       ]
      },
      {
       "output_type": "stream",
       "stream": "stdout",
       "text": [
        "82 "
       ]
      },
      {
       "output_type": "stream",
       "stream": "stdout",
       "text": [
        "83 "
       ]
      },
      {
       "output_type": "stream",
       "stream": "stdout",
       "text": [
        "84 "
       ]
      },
      {
       "output_type": "stream",
       "stream": "stdout",
       "text": [
        "85 "
       ]
      },
      {
       "output_type": "stream",
       "stream": "stdout",
       "text": [
        "86 "
       ]
      },
      {
       "output_type": "stream",
       "stream": "stdout",
       "text": [
        "87 "
       ]
      },
      {
       "output_type": "stream",
       "stream": "stdout",
       "text": [
        "88 "
       ]
      },
      {
       "output_type": "stream",
       "stream": "stdout",
       "text": [
        "89 "
       ]
      },
      {
       "output_type": "stream",
       "stream": "stdout",
       "text": [
        "90 "
       ]
      },
      {
       "output_type": "stream",
       "stream": "stdout",
       "text": [
        "91 "
       ]
      },
      {
       "output_type": "stream",
       "stream": "stdout",
       "text": [
        "92 "
       ]
      },
      {
       "output_type": "stream",
       "stream": "stdout",
       "text": [
        "93 "
       ]
      },
      {
       "output_type": "stream",
       "stream": "stdout",
       "text": [
        "94 "
       ]
      },
      {
       "output_type": "stream",
       "stream": "stdout",
       "text": [
        "95 "
       ]
      },
      {
       "output_type": "stream",
       "stream": "stdout",
       "text": [
        "96 "
       ]
      },
      {
       "output_type": "stream",
       "stream": "stdout",
       "text": [
        "97 "
       ]
      },
      {
       "output_type": "stream",
       "stream": "stdout",
       "text": [
        "98 "
       ]
      },
      {
       "output_type": "stream",
       "stream": "stdout",
       "text": [
        "99 "
       ]
      },
      {
       "output_type": "stream",
       "stream": "stdout",
       "text": [
        "100 \n",
        "Elapsed time: 20.8 seconds.\n",
        "\n"
       ]
      }
     ],
     "prompt_number": 11
    },
    {
     "cell_type": "code",
     "collapsed": false,
     "input": [
      "trends = pd.DataFrame({'word':words, 'year_start':years_start, 'year_max':years_max, 'year_end':years_end,\n",
      "                       'trendiness':trendiness})\n",
      "trends = trends[['word', 'trendiness', 'year_start', 'year_max', 'year_end']]\n",
      "trends.sort('trendiness', ascending=False, inplace=True)\n",
      "trends.to_csv('coha_trendiness.csv')\n",
      "trends.to_pickle('coha_trendiness.pickle')\n",
      "print len(trends)\n",
      "print trends.head(50)"
     ],
     "language": "python",
     "metadata": {},
     "outputs": [
      {
       "output_type": "stream",
       "stream": "stdout",
       "text": [
        "3941\n",
        "            word  trendiness  year_start  year_max  year_end\n",
        "2955      reagan    0.003379        1980      1985      1990\n",
        "2572       nixon    0.002831        1970      1975      1980\n",
        "3687          uv    0.002767        1860      1865      1870\n",
        "1931     kennedy    0.002747        1960      1965      1970\n",
        "1099  eisenhower    0.002241        1950      1955      1960\n",
        "3525         ter    0.001686        1880      1885      1890\n",
        "734    communist    0.001660        1950      1955      1965\n",
        "2793      planes    0.001219        1940      1945      1950\n",
        "1870      jimmie    0.001180        1910      1915      1920\n",
        "770     coolidge    0.001105        1920      1925      1930\n",
        "1128       elsie    0.001072        1870      1875      1880\n",
        "438     bradshaw    0.001070        1830      1835      1840\n",
        "1965       korea    0.001056        1950      1955      1960\n",
        "3064       rollo    0.001039        1850      1855      1860\n",
        "3736     vietnam    0.001029        1960      1965      1975\n",
        "3071   roosevelt    0.001027        1930      1935      1950\n",
        "1917        katy    0.000983        1860      1865      1870\n",
        "1458      graeme    0.000935        1860      1865      1870\n",
        "1102     eleanor    0.000932        1920      1925      1930\n",
        "3871    winthrop    0.000931        1850      1855      1860\n",
        "1843        jeff    0.000906        1950      1955      1960\n",
        "2183   madeleine    0.000891        1860      1865      1870\n",
        "898         dave    0.000881        1910      1915      1920\n",
        "735   communists    0.000877        1950      1955      1965\n",
        "2006       lanny    0.000862        1940      1945      1950\n",
        "1058      dulles    0.000836        1950      1955      1960\n",
        "2686          pa    0.000820        1880      1885      1890\n",
        "107          amy    0.000808        1860      1865      1870\n",
        "1869       jimbo    0.000797        1970      1975      1980\n",
        "1800    isabella    0.000783        1830      1835      1840\n",
        "1952   kissinger    0.000781        1970      1975      1980\n",
        "3340      soviet    0.000767        1950      1955      1990\n",
        "2971     redwood    0.000761        1820      1825      1830\n",
        "964        dewey    0.000757        1940      1945      1950\n",
        "3407      stitch    0.000749        1870      1875      1880\n",
        "1528       gypsy    0.000737        1860      1865      1870\n",
        "1639         hev    0.000733        1860      1865      1870\n",
        "1661      hitler    0.000718        1935      1945      1950\n",
        "1131      elvira    0.000714        1820      1825      1830\n",
        "2319         mcs    0.000714        1950      1955      1960\n",
        "201       atomic    0.000709        1945      1955      1960\n",
        "841         cuba    0.000687        1960      1965      1970\n",
        "76    alessandro    0.000685        1880      1885      1890\n",
        "3846     wilford    0.000683        1860      1865      1870\n",
        "3632      truman    0.000681        1945      1955      1960\n",
        "2211      malone    0.000672        1960      1965      1970\n",
        "2193    magdalen    0.000665        1870      1875      1880\n",
        "1966      korean    0.000663        1950      1955      1960\n",
        "3092     rowland    0.000662        1870      1875      1880\n",
        "3403   stevenson    0.000652        1950      1955      1960\n"
       ]
      }
     ],
     "prompt_number": 12
    },
    {
     "cell_type": "code",
     "collapsed": false,
     "input": [
      "print df[df.word == 'reagan']"
     ],
     "language": "python",
     "metadata": {},
     "outputs": [
      {
       "output_type": "stream",
       "stream": "stdout",
       "text": [
        "             pct    word  year\n",
        "211087  0.000000  reagan  1815\n",
        "211088  0.000000  reagan  1820\n",
        "211089  0.000000  reagan  1825\n",
        "211090  0.000000  reagan  1830\n",
        "211091  0.000000  reagan  1835\n",
        "211092  0.000000  reagan  1840\n",
        "211093  0.000000  reagan  1845\n",
        "211094  0.000000  reagan  1850\n",
        "211095  0.000000  reagan  1855\n",
        "211096  0.000003  reagan  1860\n",
        "211097  0.000006  reagan  1865\n",
        "211098  0.000025  reagan  1870\n",
        "211099  0.000044  reagan  1875\n",
        "211100  0.000065  reagan  1880\n",
        "211101  0.000086  reagan  1885\n",
        "211102  0.000083  reagan  1890\n",
        "211103  0.000079  reagan  1895\n",
        "211104  0.000049  reagan  1900\n",
        "211105  0.000019  reagan  1905\n",
        "211106  0.000014  reagan  1910\n",
        "211107  0.000009  reagan  1915\n",
        "211108  0.000007  reagan  1920\n",
        "211109  0.000004  reagan  1925\n",
        "211110  0.000006  reagan  1930\n",
        "211111  0.000008  reagan  1935\n",
        "211112  0.000023  reagan  1940\n",
        "211113  0.000038  reagan  1945\n",
        "211114  0.000038  reagan  1950\n",
        "211115  0.000038  reagan  1955\n",
        "211116  0.001042  reagan  1960\n",
        "211117  0.002045  reagan  1965\n",
        "211118  0.002479  reagan  1970\n",
        "211119  0.002912  reagan  1975\n",
        "211120  0.018351  reagan  1980\n",
        "211121  0.033789  reagan  1985\n",
        "211122  0.018466  reagan  1990\n",
        "211123  0.003143  reagan  1995\n",
        "211124  0.002649  reagan  2000\n",
        "211125  0.002156  reagan  2005\n"
       ]
      }
     ],
     "prompt_number": 13
    },
    {
     "cell_type": "code",
     "collapsed": false,
     "input": [
      "# top for each decade\n",
      "for i in range(1825,2005,10):\n",
      "    print i, trends[trends.year_max == i].word.iloc[0]"
     ],
     "language": "python",
     "metadata": {},
     "outputs": [
      {
       "output_type": "stream",
       "stream": "stdout",
       "text": [
        "1825 redwood\n",
        "1835 bradshaw\n",
        "1845 puffer\n",
        "1855 rollo\n",
        "1865 uv\n",
        "1875 elsie\n",
        "1885 ter\n",
        "1895 madonna\n",
        "1905 ivan\n",
        "1915 jimmie\n",
        "1925 coolidge\n",
        "1935 roosevelt\n",
        "1945 planes\n",
        "1955 eisenhower\n",
        "1965 kennedy\n",
        "1975 nixon\n",
        "1985 reagan\n",
        "1995 epa\n"
       ]
      }
     ],
     "prompt_number": 14
    },
    {
     "cell_type": "code",
     "collapsed": false,
     "input": [
      "# used to round limit of y axis up to second-most-significant digit\n",
      "def determine_y_limit(x):                      \n",
      "    significance = int(floor((log10(x))))\n",
      "    val = floor(x / (10 ** (significance - 1))) + 1\n",
      "    val = val * (10 ** (significance - 1))\n",
      "    return val\n",
      "\n",
      "def make_chart(df, words, form = 'line', title='', colors= [], smoothing=0,\n",
      "               baseline='sym', png_name='', ymax=None):\n",
      "    \n",
      "    dataframe = df[df['word'].isin(words)]   \n",
      "    dataframe = pd.DataFrame(pd.pivot_table(dataframe, values='pct', index = 'year', columns=['word']))\n",
      "    dataframe.sort(inplace=True, ascending=True)\n",
      "    \n",
      "    startyear = min(list(dataframe.index))\n",
      "    endyear = max(list(dataframe.index))\n",
      "    yearstr = '%d-%d' % (startyear, endyear)\n",
      "    \n",
      "    legend_size = 0.01\n",
      "    \n",
      "    max_y = 0\n",
      "    for word in dataframe.columns:\n",
      "        max_y = max(max_y, dataframe[word].max())\n",
      "        final_word = word\n",
      "        if smoothing > 0:\n",
      "            newvalues = []\n",
      "            for row in range(len(dataframe)):\n",
      "                start = max(0, row - smoothing)\n",
      "                end = min(len(dataframe) - 1, row + smoothing)\n",
      "                newvalues.append(dataframe[word].iloc[start:end].mean())\n",
      "            for row in range(len(dataframe)):\n",
      "                dataframe[word].iloc[row] = newvalues[row]\n",
      "    \n",
      "    y_text = \"% of words in corpus\"\n",
      "    \n",
      "    num_series = len(dataframe.columns)\n",
      "    \n",
      "    if colors == []:\n",
      "        colors = [\"#1f78b4\",\"#ae4ec9\",\"#33a02c\",\"#fb9a99\",\"#e31a1c\",\"#a6cee3\",\n",
      "                  \"#fdbf6f\",\"#ff7f00\",\"#cab2d6\",\"#6a3d9a\",\"#ffff99\",\"#b15928\"]\n",
      "    num_colors = len(colors)\n",
      "    \n",
      "    if num_series > num_colors:\n",
      "        print \"Warning: colors will be repeated.\"\n",
      "    \n",
      "    x_values = list(dataframe.index)\n",
      "    y_zeroes = [0] * len(x_values)\n",
      "    \n",
      "    if form == 'line':\n",
      "        fig, ax = plt.subplots(num=None, figsize=(16, 9), dpi=300, facecolor='w', edgecolor='w')\n",
      "        counter = 0\n",
      "        for word in words:\n",
      "            color = colors[counter % num_colors]\n",
      "            counter += 1\n",
      "            label = word\n",
      "            ax.plot(x_values, dataframe[word], label=label, color=color, linewidth = 3)\n",
      "        if ymax == None:\n",
      "            ax.set_ylim(0,determine_y_limit(max_y))\n",
      "        else:\n",
      "            ax.set_ylim(0, ymax)\n",
      "        ax.set_title(title, size = 20)\n",
      "        ax.set_xlim(startyear, endyear)\n",
      "        ax.set_ylabel(y_text, size = 20)\n",
      "        ax.set_xticks(range(1810, 2010, 10))\n",
      "        box = ax.get_position()\n",
      "        ax.set_position([box.x0, box.y0 + box.height * legend_size,\n",
      "                 box.width, box.height * (1 - legend_size)])\n",
      "        legend_cols = min(5, num_series)\n",
      "        ax.legend(loc='upper center', bbox_to_anchor=(0.5, -0.05), fancybox=True, shadow=True, ncol=legend_cols, fontsize=16)\n",
      "\n",
      "    if form == 'subplots_auto':\n",
      "        counter = 0\n",
      "        fig, axes = plt.subplots(num_series, 1, figsize=(12, 3.5*num_series))\n",
      "        print 'Maximum alpha: %d percent' % (determine_y_limit(max_y))\n",
      "        for word in dataframe.columns:\n",
      "            label = word\n",
      "            current_ymax = dataframe[word].max()\n",
      "            tint = 1.0 * current_ymax / determine_y_limit(max_y)\n",
      "            axes[counter].plot(x_values, dataframe[word], color='k')\n",
      "            axes[counter].set_ylim(0,determine_y_limit(current_ymax))\n",
      "            axes[counter].set_xlim(startyear, endyear)\n",
      "            axes[counter].fill_between(x_values, dataframe[word], color=colors[0], alpha=tint, interpolate=True)\n",
      "\n",
      "            axes[counter].set_ylabel(label, size=11)\n",
      "            plt.subplots_adjust(hspace=0.1)\n",
      "            counter += 1\n",
      "            \n",
      "    if form == 'subplots_same':\n",
      "        counter = 0\n",
      "        fig, axes = plt.subplots(num_series, 1, figsize=(12, 3.5*num_series))\n",
      "        print 'Maximum y axis: %d percent' % (determine_y_limit(max_y))\n",
      "        for word in dataframe.columns:\n",
      "            label = word\n",
      "            axes[counter].plot(x_values, dataframe[word], color='k')\n",
      "            axes[counter].set_ylim(0,determine_y_limit(max_y))\n",
      "            axes[counter].set_xlim(startyear, endyear)\n",
      "            axes[counter].fill_between(x_values, dataframe[word], color=colors[1], alpha=1, interpolate=True)\n",
      "            axes[counter].set_ylabel(label, size=11)\n",
      "            plt.subplots_adjust(hspace=0.1)\n",
      "            counter += 1\n",
      "        \n",
      "    if form == 'stream':\n",
      "        figure(num=None, figsize=(20,10), dpi=150, facecolor='w', edgecolor='k')\n",
      "        plt.title(title, size=17)        \n",
      "        plt.xlim(startyear, endyear)\n",
      "        \n",
      "        yaxtext = 'Percent of words in corpus'\n",
      "        \n",
      "        scale = str(determine_y_limit(max_y)) + ')'\n",
      "        yaxtext += scale\n",
      "        plt.ylabel(yaxtext, size=13)\n",
      "        polys = pyplot.stackplot(x_values, *[dataframe[word] for word in dataframe.columns], \n",
      "                                 colors=colors, baseline=baseline)\n",
      "        legendProxies = []\n",
      "        for poly in polys:\n",
      "            legendProxies.append(pyplot.Rectangle((0, 0), 1, 1, fc=poly.get_facecolor()[0]))\n",
      "        wordlist = []\n",
      "        for word in dataframe.columns:\n",
      "            wordlist.append(word)\n",
      "        plt.legend(legendProxies, wordlist, loc=3, ncol=2)\n",
      "        \n",
      "        plt.tick_params(\\\n",
      "            axis='y',          \n",
      "            which='both',      #  major and minor ticks \n",
      "            left='off',      \n",
      "            right='off',       \n",
      "            labelleft='off')\n",
      "        \n",
      "    plt.show()   \n",
      "    if png_name != '':\n",
      "        fileword = save_path + \"/\" + png_name + \".png\"\n",
      "        plt.savefig(fileword)\n",
      "    plt.close()"
     ],
     "language": "python",
     "metadata": {},
     "outputs": [],
     "prompt_number": 15
    },
    {
     "cell_type": "code",
     "collapsed": false,
     "input": [
      "perdecade = ['redwood', 'bradshaw', 'puffer', 'rollo', 'uv', 'elsie', 'ter', 'madonna', 'ivan', 'jimmie', 'coolidge', 'roosevelt', 'planes', 'eisenhower', 'kennedy', 'nixon', 'reagan', 'epa']\n",
      "print len(perdecade)\n",
      "\n",
      "print perdecade.index('puffer')"
     ],
     "language": "python",
     "metadata": {},
     "outputs": [
      {
       "output_type": "stream",
       "stream": "stdout",
       "text": [
        "18\n",
        "2\n"
       ]
      }
     ],
     "prompt_number": 16
    },
    {
     "cell_type": "code",
     "collapsed": false,
     "input": [
      "make_chart(df=df, \n",
      "           words = perdecade, \n",
      "           form = 'line', \n",
      "           title='\\\"Trendiest\\\" words in Corpus of Historical American English', \n",
      "           colors = [\"#1f78b4\",\"#ae4ec9\",\"#33a02c\",\"#e31a1c\",\n",
      "                     \"#009b89\",\"#b15928\"], \n",
      "           smoothing=0,\n",
      "           baseline='sym',\n",
      "           png_name='',\n",
      "           ymax = 0.05)"
     ],
     "language": "python",
     "metadata": {},
     "outputs": [
      {
       "output_type": "stream",
       "stream": "stdout",
       "text": [
        "Warning: colors will be repeated.\n"
       ]
      },
      {
       "metadata": {},
       "output_type": "display_data",
       "png": "[encoded data removed]",
       "text": [
        "<matplotlib.figure.Figure at 0x3c0c710>"
       ]
      }
     ],
     "prompt_number": 17
    },
    {
     "cell_type": "code",
     "collapsed": false,
     "input": [
      "#repeat plot but with repeating six colors in chronological order\n",
      "\n",
      "words = perdecade\n",
      "title=''\n",
      "smoothing=0\n",
      "ymax=0.05\n",
      "    \n",
      "dataframe = df[df['word'].isin(words)]   \n",
      "dataframe = pd.DataFrame(pd.pivot_table(dataframe, values='pct', index = 'year', columns=['word']))\n",
      "dataframe.sort(inplace=True, ascending=True)\n",
      "\n",
      "startyear = min(list(dataframe.index))\n",
      "endyear = max(list(dataframe.index))\n",
      "yearstr = '%d-%d' % (startyear, endyear)\n",
      "\n",
      "legend_size = 0.01\n",
      "\n",
      "max_y = 0\n",
      "for word in dataframe.columns:\n",
      "    max_y = max(max_y, dataframe[word].max())\n",
      "    final_word = word\n",
      "    if smoothing > 0:\n",
      "        newvalues = []\n",
      "        for row in range(len(dataframe)):\n",
      "            start = max(0, row - smoothing)\n",
      "            end = min(len(dataframe) - 1, row + smoothing)\n",
      "            newvalues.append(dataframe[word].iloc[start:end].mean())\n",
      "        for row in range(len(dataframe)):\n",
      "            dataframe[word].iloc[row] = newvalues[row]\n",
      "\n",
      "y_text = \"% of words in corpus\"\n",
      "\n",
      "num_series = len(dataframe.columns)\n",
      "\n",
      "colors = [\"#1f78b4\",\"#ae4ec9\",\"#33a02c\",\"#fb9a99\",\"#e31a1c\",\"#a6cee3\",\n",
      "              \"#fdbf6f\",\"#ff7f00\",\"#cab2d6\",\"#6a3d9a\",\"#ffff99\",\"#b15928\"]\n",
      "\n",
      "num_colors = len(colors)\n",
      "\n",
      "if num_series > num_colors:\n",
      "    print \"Warning: colors will be repeated.\"\n",
      "\n",
      "x_values = list(dataframe.index)\n",
      "y_zeroes = [0] * len(x_values)\n",
      "\n",
      "fig, ax = plt.subplots(num=None, figsize=(16, 9), dpi=300, facecolor='w', edgecolor='w')\n",
      "counter = 0\n",
      "for word in words:\n",
      "    color = colors[counter % num_colors]\n",
      "    counter += 1\n",
      "    label = word\n",
      "    ax.plot(x_values, dataframe[word], label=label, color=color, linewidth = 3)\n",
      "if ymax == None:\n",
      "    ax.set_ylim(0,determine_y_limit(max_y))\n",
      "else:\n",
      "    ax.set_ylim(0, ymax)\n",
      "ax.set_title(title, size = 20)\n",
      "ax.set_xlim(startyear, endyear)\n",
      "ax.set_ylabel(y_text, size = 20)\n",
      "ax.set_xticks(range(1810, 2010, 10))\n",
      "box = ax.get_position()\n",
      "ax.set_position([box.x0, box.y0 + box.height * legend_size,\n",
      "         box.width, box.height * (1 - legend_size)])\n",
      "legend_cols = min(5, num_series)\n",
      "ax.legend(loc='upper center', bbox_to_anchor=(0.5, -0.05), fancybox=True, shadow=True, ncol=legend_cols, fontsize=16)"
     ],
     "language": "python",
     "metadata": {},
     "outputs": [
      {
       "output_type": "stream",
       "stream": "stdout",
       "text": [
        "Warning: colors will be repeated.\n"
       ]
      },
      {
       "metadata": {},
       "output_type": "pyout",
       "prompt_number": 19,
       "text": [
        "<matplotlib.legend.Legend at 0xcb06358>"
       ]
      },
      {
       "metadata": {},
       "output_type": "display_data",
       "png": "[encoded data removed]",
       "text": [
        "<matplotlib.figure.Figure at 0xcb48438>"
       ]
      }
     ],
     "prompt_number": 19
    },
    {
     "cell_type": "code",
     "collapsed": false,
     "input": [
      "top10 = list(trends.word[:10])\n",
      "make_chart(df=df, \n",
      "           words = top10, \n",
      "           form = 'line', \n",
      "           title='Top 10 \\\"Trendiest\\\" words in the Corpus of Historical American English, 1810s-2000s', \n",
      "           colors= [], \n",
      "           smoothing=0,\n",
      "           baseline='sym',\n",
      "           png_name='',\n",
      "           ymax = 0.045)\n",
      "\n",
      "# note: they are all the in the top 10 per decade list"
     ],
     "language": "python",
     "metadata": {},
     "outputs": [
      {
       "metadata": {},
       "output_type": "display_data",
       "png": "[encoded data removed]",
       "text": [
        "<matplotlib.figure.Figure at 0xc741d30>"
       ]
      }
     ],
     "prompt_number": 20
    },
    {
     "cell_type": "code",
     "collapsed": false,
     "input": [
      "make_chart(df=df, \n",
      "           words = ['atomic'], \n",
      "           form = 'line', \n",
      "           title='', \n",
      "           colors= ['#ee2222', '#4444aa'], \n",
      "           smoothing=0,\n",
      "           baseline='sym',\n",
      "           png_name='',\n",
      "           ymax = 0.015)"
     ],
     "language": "python",
     "metadata": {},
     "outputs": [
      {
       "metadata": {},
       "output_type": "display_data",
       "png": "[encoded data removed]",
       "text": [
        "<matplotlib.figure.Figure at 0xcb17400>"
       ]
      }
     ],
     "prompt_number": 23
    },
    {
     "cell_type": "code",
     "collapsed": false,
     "input": [],
     "language": "python",
     "metadata": {},
     "outputs": []
    }
   ],
   "metadata": {}
  }
 ]
}