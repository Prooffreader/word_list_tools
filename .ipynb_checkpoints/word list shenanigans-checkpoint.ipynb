{
 "metadata": {
  "name": "",
  "signature": "sha256:0db5d8e00cae308c7675ba93bc88bd64491a0a02760d3154173bb8ac68ae40a7"
 },
 "nbformat": 3,
 "nbformat_minor": 0,
 "worksheets": [
  {
   "cells": [
    {
     "cell_type": "code",
     "collapsed": false,
     "input": [
      "import os\n",
      "\n",
      "os.chdir(\"C:/_Dropbox/Dropbox/py/nlp\")\n",
      "filename = 'word_list_moby_crossword.flat.txt'\n",
      "\n",
      "with open(filename) as f:\n",
      "    words = f.read().splitlines()\n",
      "\n",
      "len(words)"
     ],
     "language": "python",
     "metadata": {},
     "outputs": [
      {
       "metadata": {},
       "output_type": "pyout",
       "prompt_number": 1,
       "text": [
        "113809"
       ]
      }
     ],
     "prompt_number": 1
    },
    {
     "cell_type": "code",
     "collapsed": false,
     "input": [
      "# iterate to remove simple plurals #deactivated for now\n",
      "for idx in range(len(words)): \n",
      "    if idx > 0:\n",
      "        if words[idx].endswith(\"s\"):\n",
      "            if words[idx][:-1] == words[idx -1]:\n",
      "                words[idx] = 'erasethisword'\n",
      "    if words[idx].endswith(\"es\"):\n",
      "            if words[idx][:-2] == words[idx -1]:\n",
      "                words[idx] = 'erasethisword'\n",
      "\n",
      "words[:] = (value for value in words if value != 'erasethisword')\n",
      "\n",
      "# just to lower word length for testing\n",
      "words = words[:10000]\n",
      "print len(words)\n",
      "\n",
      "\n",
      "\n",
      "\n",
      "\n",
      "Prefixes = ['a', 'acro', 'allo', 'an', 'ante', 'anti', 'auto', 'bi', 'co', 'contra', 'counter', 'de', 'di', 'dis', 'dys', 'epi', 'extra', 'hemi', 'hexa', 'hyper', 'hypo', 'ig', 'il', 'im', 'in', 'infra', 'inter', 'intra', 'ir', 'macro', 'mal', 'maxi', 'meso', 'micro', 'mid', 'mini', 'mono', 'multi', 'non', 'octo', 'over', 'pan', 'para', 'penta', 'peri', 'per', 'poly', 'post', 'pre', 'pro', 'proto', 'pseudo', 'quadri', 'quasi', 're', 'self', 'semi', \\\n",
      "    'sub', 'super', 'supra', 'tetra', 'trans', 'tri', 'ultra', 'un', 'under', 'xeno']\n",
      "Suffixes = ['s', 'ed', 'ing', 'es', 'en', 'er', 'est', 'ian', 'ize', 'ise', 'fy', 'ly', 'ful', 'able', 'ible', 'hood', 'ess', 'ness', 'less', 'ism', 'ment', 'ist', 'al', \\\n",
      "\t'ish', 'tion', 'ology']\n",
      "\n"
     ],
     "language": "python",
     "metadata": {},
     "outputs": [
      {
       "output_type": "stream",
       "stream": "stdout",
       "text": [
        "10000\n"
       ]
      }
     ],
     "prompt_number": 2
    },
    {
     "cell_type": "code",
     "collapsed": false,
     "input": [
      "#find words within words\n",
      "#WAY SLOW! divide lists into short and long\n",
      "\n",
      "import time\n",
      "import re\n",
      "\n",
      "searchterms = []\n",
      "tosearch = []\n",
      "for item in words:\n",
      "    if len(item) < 9 and len(item) > 3: searchterms.append(item)\n",
      "    if len(item) > 6: tosearch.append(item)\n",
      "print len(searchterms), len(tosearch)\n",
      "\n",
      "endcount = len(searchterms) * len(tosearch)\n",
      "\n",
      "start = time.time()    \n",
      "\n",
      "progressmod = int(endcount / 100)\n",
      "progresscount = 99\n",
      "currentcount = 0\n",
      "\n",
      "print '100, ',\n",
      " \n",
      "foundlist = []\n",
      "\n",
      "import re\n",
      "\n",
      "for word in searchterms:\n",
      "    for lookup in tosearch:\n",
      "        currentcount += 1\n",
      "        if len(word) > 3:\n",
      "            if len(word) + 2 < len(lookup):\n",
      "                if word in lookup:\n",
      "                    if word != lookup:\n",
      "                        if lookup.index(word) != 0:\n",
      "                            if lookup.index(word) != len(lookup) - len(word): #not at end\n",
      "                                foundlist.append(lookup.replace(word, word.upper()))\n",
      "        if ( currentcount % progressmod ) == 0:\n",
      "            print str(progresscount) + ', ',\n",
      "            progresscount -= 1\n",
      "            \n",
      "print ' '\n",
      "print \"Process took %g s\" % (time.time()-start)\n",
      "print len(foundlist)"
     ],
     "language": "python",
     "metadata": {},
     "outputs": [
      {
       "output_type": "stream",
       "stream": "stdout",
       "text": [
        "7165 7125\n",
        "100,  "
       ]
      },
      {
       "output_type": "stream",
       "stream": "stdout",
       "text": [
        "99,  "
       ]
      },
      {
       "output_type": "stream",
       "stream": "stdout",
       "text": [
        "98,  "
       ]
      },
      {
       "output_type": "stream",
       "stream": "stdout",
       "text": [
        "97,  "
       ]
      },
      {
       "output_type": "stream",
       "stream": "stdout",
       "text": [
        "96,  "
       ]
      },
      {
       "output_type": "stream",
       "stream": "stdout",
       "text": [
        "95,  "
       ]
      },
      {
       "output_type": "stream",
       "stream": "stdout",
       "text": [
        "94,  "
       ]
      },
      {
       "output_type": "stream",
       "stream": "stdout",
       "text": [
        "93,  "
       ]
      },
      {
       "output_type": "stream",
       "stream": "stdout",
       "text": [
        "92,  "
       ]
      },
      {
       "output_type": "stream",
       "stream": "stdout",
       "text": [
        "91,  "
       ]
      },
      {
       "output_type": "stream",
       "stream": "stdout",
       "text": [
        "90,  "
       ]
      },
      {
       "output_type": "stream",
       "stream": "stdout",
       "text": [
        "89,  "
       ]
      },
      {
       "output_type": "stream",
       "stream": "stdout",
       "text": [
        "88,  "
       ]
      },
      {
       "output_type": "stream",
       "stream": "stdout",
       "text": [
        "87,  "
       ]
      },
      {
       "output_type": "stream",
       "stream": "stdout",
       "text": [
        "86,  "
       ]
      },
      {
       "output_type": "stream",
       "stream": "stdout",
       "text": [
        "85,  "
       ]
      },
      {
       "output_type": "stream",
       "stream": "stdout",
       "text": [
        "84,  "
       ]
      },
      {
       "output_type": "stream",
       "stream": "stdout",
       "text": [
        "83,  "
       ]
      },
      {
       "output_type": "stream",
       "stream": "stdout",
       "text": [
        "82,  "
       ]
      },
      {
       "output_type": "stream",
       "stream": "stdout",
       "text": [
        "81,  "
       ]
      },
      {
       "output_type": "stream",
       "stream": "stdout",
       "text": [
        "80,  "
       ]
      },
      {
       "output_type": "stream",
       "stream": "stdout",
       "text": [
        "79,  "
       ]
      },
      {
       "output_type": "stream",
       "stream": "stdout",
       "text": [
        "78,  "
       ]
      },
      {
       "output_type": "stream",
       "stream": "stdout",
       "text": [
        "77,  "
       ]
      },
      {
       "output_type": "stream",
       "stream": "stdout",
       "text": [
        "76,  "
       ]
      },
      {
       "output_type": "stream",
       "stream": "stdout",
       "text": [
        "75,  "
       ]
      },
      {
       "output_type": "stream",
       "stream": "stdout",
       "text": [
        "74,  "
       ]
      },
      {
       "output_type": "stream",
       "stream": "stdout",
       "text": [
        "73,  "
       ]
      },
      {
       "output_type": "stream",
       "stream": "stdout",
       "text": [
        "72,  "
       ]
      },
      {
       "output_type": "stream",
       "stream": "stdout",
       "text": [
        "71,  "
       ]
      },
      {
       "output_type": "stream",
       "stream": "stdout",
       "text": [
        "70,  "
       ]
      },
      {
       "output_type": "stream",
       "stream": "stdout",
       "text": [
        "69,  "
       ]
      },
      {
       "output_type": "stream",
       "stream": "stdout",
       "text": [
        "68,  "
       ]
      },
      {
       "output_type": "stream",
       "stream": "stdout",
       "text": [
        "67,  "
       ]
      },
      {
       "output_type": "stream",
       "stream": "stdout",
       "text": [
        "66,  "
       ]
      },
      {
       "output_type": "stream",
       "stream": "stdout",
       "text": [
        "65,  "
       ]
      },
      {
       "output_type": "stream",
       "stream": "stdout",
       "text": [
        "64,  "
       ]
      },
      {
       "output_type": "stream",
       "stream": "stdout",
       "text": [
        "63,  "
       ]
      },
      {
       "output_type": "stream",
       "stream": "stdout",
       "text": [
        "62,  "
       ]
      },
      {
       "output_type": "stream",
       "stream": "stdout",
       "text": [
        "61,  "
       ]
      },
      {
       "output_type": "stream",
       "stream": "stdout",
       "text": [
        "60,  "
       ]
      },
      {
       "output_type": "stream",
       "stream": "stdout",
       "text": [
        "59,  "
       ]
      },
      {
       "output_type": "stream",
       "stream": "stdout",
       "text": [
        "58,  "
       ]
      },
      {
       "output_type": "stream",
       "stream": "stdout",
       "text": [
        "57,  "
       ]
      },
      {
       "output_type": "stream",
       "stream": "stdout",
       "text": [
        "56,  "
       ]
      },
      {
       "output_type": "stream",
       "stream": "stdout",
       "text": [
        "55,  "
       ]
      },
      {
       "output_type": "stream",
       "stream": "stdout",
       "text": [
        "54,  "
       ]
      },
      {
       "output_type": "stream",
       "stream": "stdout",
       "text": [
        "53,  "
       ]
      },
      {
       "output_type": "stream",
       "stream": "stdout",
       "text": [
        "52,  "
       ]
      },
      {
       "output_type": "stream",
       "stream": "stdout",
       "text": [
        "51,  "
       ]
      },
      {
       "output_type": "stream",
       "stream": "stdout",
       "text": [
        "50,  "
       ]
      },
      {
       "output_type": "stream",
       "stream": "stdout",
       "text": [
        "49,  "
       ]
      },
      {
       "output_type": "stream",
       "stream": "stdout",
       "text": [
        "48,  "
       ]
      },
      {
       "output_type": "stream",
       "stream": "stdout",
       "text": [
        "47,  "
       ]
      },
      {
       "output_type": "stream",
       "stream": "stdout",
       "text": [
        "46,  "
       ]
      },
      {
       "output_type": "stream",
       "stream": "stdout",
       "text": [
        "45,  "
       ]
      },
      {
       "output_type": "stream",
       "stream": "stdout",
       "text": [
        "44,  "
       ]
      },
      {
       "output_type": "stream",
       "stream": "stdout",
       "text": [
        "43,  "
       ]
      },
      {
       "output_type": "stream",
       "stream": "stdout",
       "text": [
        "42,  "
       ]
      },
      {
       "output_type": "stream",
       "stream": "stdout",
       "text": [
        "41,  "
       ]
      },
      {
       "output_type": "stream",
       "stream": "stdout",
       "text": [
        "40,  "
       ]
      },
      {
       "output_type": "stream",
       "stream": "stdout",
       "text": [
        "39,  "
       ]
      },
      {
       "output_type": "stream",
       "stream": "stdout",
       "text": [
        "38,  "
       ]
      },
      {
       "output_type": "stream",
       "stream": "stdout",
       "text": [
        "37,  "
       ]
      },
      {
       "output_type": "stream",
       "stream": "stdout",
       "text": [
        "36,  "
       ]
      },
      {
       "output_type": "stream",
       "stream": "stdout",
       "text": [
        "35,  "
       ]
      },
      {
       "output_type": "stream",
       "stream": "stdout",
       "text": [
        "34,  "
       ]
      },
      {
       "output_type": "stream",
       "stream": "stdout",
       "text": [
        "33,  "
       ]
      },
      {
       "output_type": "stream",
       "stream": "stdout",
       "text": [
        "32,  "
       ]
      },
      {
       "output_type": "stream",
       "stream": "stdout",
       "text": [
        "31,  "
       ]
      },
      {
       "output_type": "stream",
       "stream": "stdout",
       "text": [
        "30,  "
       ]
      },
      {
       "output_type": "stream",
       "stream": "stdout",
       "text": [
        "29,  "
       ]
      },
      {
       "output_type": "stream",
       "stream": "stdout",
       "text": [
        "28,  "
       ]
      },
      {
       "output_type": "stream",
       "stream": "stdout",
       "text": [
        "27,  "
       ]
      },
      {
       "output_type": "stream",
       "stream": "stdout",
       "text": [
        "26,  "
       ]
      },
      {
       "output_type": "stream",
       "stream": "stdout",
       "text": [
        "25,  "
       ]
      },
      {
       "output_type": "stream",
       "stream": "stdout",
       "text": [
        "24,  "
       ]
      },
      {
       "output_type": "stream",
       "stream": "stdout",
       "text": [
        "23,  "
       ]
      },
      {
       "output_type": "stream",
       "stream": "stdout",
       "text": [
        "22,  "
       ]
      },
      {
       "output_type": "stream",
       "stream": "stdout",
       "text": [
        "21,  "
       ]
      },
      {
       "output_type": "stream",
       "stream": "stdout",
       "text": [
        "20,  "
       ]
      },
      {
       "output_type": "stream",
       "stream": "stdout",
       "text": [
        "19,  "
       ]
      },
      {
       "output_type": "stream",
       "stream": "stdout",
       "text": [
        "18,  "
       ]
      },
      {
       "output_type": "stream",
       "stream": "stdout",
       "text": [
        "17,  "
       ]
      },
      {
       "output_type": "stream",
       "stream": "stdout",
       "text": [
        "16,  "
       ]
      },
      {
       "output_type": "stream",
       "stream": "stdout",
       "text": [
        "15,  "
       ]
      },
      {
       "output_type": "stream",
       "stream": "stdout",
       "text": [
        "14,  "
       ]
      },
      {
       "output_type": "stream",
       "stream": "stdout",
       "text": [
        "13,  "
       ]
      },
      {
       "output_type": "stream",
       "stream": "stdout",
       "text": [
        "12,  "
       ]
      },
      {
       "output_type": "stream",
       "stream": "stdout",
       "text": [
        "11,  "
       ]
      },
      {
       "output_type": "stream",
       "stream": "stdout",
       "text": [
        "10,  "
       ]
      },
      {
       "output_type": "stream",
       "stream": "stdout",
       "text": [
        "9,  "
       ]
      },
      {
       "output_type": "stream",
       "stream": "stdout",
       "text": [
        "8,  "
       ]
      },
      {
       "output_type": "stream",
       "stream": "stdout",
       "text": [
        "7,  "
       ]
      },
      {
       "output_type": "stream",
       "stream": "stdout",
       "text": [
        "6,  "
       ]
      },
      {
       "output_type": "stream",
       "stream": "stdout",
       "text": [
        "5,  "
       ]
      },
      {
       "output_type": "stream",
       "stream": "stdout",
       "text": [
        "4,  "
       ]
      },
      {
       "output_type": "stream",
       "stream": "stdout",
       "text": [
        "3,  "
       ]
      },
      {
       "output_type": "stream",
       "stream": "stdout",
       "text": [
        "2,  "
       ]
      },
      {
       "output_type": "stream",
       "stream": "stdout",
       "text": [
        "1,  "
       ]
      },
      {
       "output_type": "stream",
       "stream": "stdout",
       "text": [
        "0,   \n",
        "Process took 27.287 s\n",
        "473\n"
       ]
      }
     ],
     "prompt_number": 3
    },
    {
     "cell_type": "code",
     "collapsed": false,
     "input": [
      "foundlist[:100]\n",
      "\n",
      "# need some cutoff between string lengths\n",
      "#list of suffixes, prefixes"
     ],
     "language": "python",
     "metadata": {},
     "outputs": [
      {
       "metadata": {},
       "output_type": "pyout",
       "prompt_number": 4,
       "text": [
        "['alABASter',\n",
        " 'anABASis',\n",
        " 'bABASsu',\n",
        " 'blABBEd',\n",
        " 'blABBEr',\n",
        " 'blABBEred',\n",
        " 'blABBEring',\n",
        " 'blABBErs',\n",
        " 'alphABETed',\n",
        " 'alphABETic',\n",
        " 'alphABETical',\n",
        " 'alphABETically',\n",
        " 'alphABETing',\n",
        " 'alphABETize',\n",
        " 'alphABETized',\n",
        " 'alphABETizer',\n",
        " 'alphABETizes',\n",
        " 'alphABETizing',\n",
        " 'alphABETs',\n",
        " 'agreeABLEness',\n",
        " 'anABLEps',\n",
        " 'antiABORTion',\n",
        " 'approACHEd',\n",
        " 'approACHEs',\n",
        " 'attACHEd',\n",
        " 'attACHEr',\n",
        " 'attACHEs',\n",
        " 'bACHElor',\n",
        " 'bACHElorhood',\n",
        " 'bACHElors',\n",
        " 'beACHEd',\n",
        " 'beACHEs',\n",
        " 'bellyACHEd',\n",
        " 'bellyACHEs',\n",
        " 'bleACHEd',\n",
        " 'bleACHEr',\n",
        " 'bleACHEs',\n",
        " 'brACHEt',\n",
        " 'breACHEd',\n",
        " 'breACHEr',\n",
        " 'breACHEs',\n",
        " 'broACHEd',\n",
        " 'broACHEr',\n",
        " 'broACHEs',\n",
        " 'abreACTINg',\n",
        " 'abstrACTINg',\n",
        " 'attrACTINg',\n",
        " 'attrACTIVEly',\n",
        " 'attrACTIVEness',\n",
        " 'blADDERy',\n",
        " 'antitrADITional',\n",
        " 'anAERObe',\n",
        " 'bAGASse',\n",
        " 'bAGATElle',\n",
        " 'almAGESt',\n",
        " 'bAGGIEst',\n",
        " 'brAGGIEr',\n",
        " 'brAGGIEst',\n",
        " 'antiAGGRESSion',\n",
        " 'antiAGGRESSive',\n",
        " 'atAGHAn',\n",
        " 'assuAGINg',\n",
        " 'asswAGINg',\n",
        " 'averAGINg',\n",
        " 'badinAGINg',\n",
        " 'bandAGINg',\n",
        " 'barrAGINg',\n",
        " 'anAGLYph',\n",
        " 'anAGOGe',\n",
        " 'anAGOGic',\n",
        " 'anAGOGies',\n",
        " 'anAGOGy',\n",
        " 'apAGOGe',\n",
        " 'apAGOGic',\n",
        " 'antAGONism',\n",
        " 'antAGONist',\n",
        " 'antAGONistic',\n",
        " 'antAGONists',\n",
        " 'antAGONize',\n",
        " 'antAGONized',\n",
        " 'antAGONizes',\n",
        " 'antAGONizing',\n",
        " 'antAGONISTic',\n",
        " 'antAGONISTs',\n",
        " 'antAGONIZEd',\n",
        " 'antAGONIZEs',\n",
        " 'bAGUEtte',\n",
        " 'beleAGUEr',\n",
        " 'beleAGUEred',\n",
        " 'beleAGUEring',\n",
        " 'beleAGUErs',\n",
        " 'brAIDEd',\n",
        " 'brAIDEr',\n",
        " 'bAILSman',\n",
        " 'bAILSmen',\n",
        " 'abstAINEd',\n",
        " 'abstAINEr',\n",
        " 'ascertAINEd',\n",
        " 'attAINEd',\n",
        " 'attAINEr']"
       ]
      }
     ],
     "prompt_number": 4
    },
    {
     "cell_type": "code",
     "collapsed": false,
     "input": [
      "# to check if something is a member of word list\n",
      "\n",
      "#!/usr/bin/python\n",
      "# By Steve Hanov, 2011. Released to the public domain.\n",
      "import sys\n",
      "import time\n",
      "\n",
      "DICTIONARY = \"C:/_Dropbox/Dropbox/py/nlp/word_list_moby_crossword.flat.txt\"\n",
      "QUERY = ['throug']\n",
      "\n",
      "# This class represents a node in the directed acyclic word graph (DAWG). It\n",
      "# has a list of edges to other nodes. It has functions for testing whether it\n",
      "# is equivalent to another node. Nodes are equivalent if they have identical\n",
      "# edges, and each identical edge leads to identical states. The __hash__ and\n",
      "# __eq__ functions allow it to be used as a key in a python dictionary.\n",
      "class DawgNode:\n",
      "    NextId = 0\n",
      "    \n",
      "    def __init__(self):\n",
      "        self.id = DawgNode.NextId\n",
      "        DawgNode.NextId += 1\n",
      "        self.final = False\n",
      "        self.edges = {}\n",
      "\n",
      "    def __str__(self):        \n",
      "        arr = []\n",
      "        if self.final: \n",
      "            arr.append(\"1\")\n",
      "        else:\n",
      "            arr.append(\"0\")\n",
      "\n",
      "        for (label, node) in self.edges.iteritems():\n",
      "            arr.append( label )\n",
      "            arr.append( str( node.id ) )\n",
      "\n",
      "        return \"_\".join(arr)\n",
      "\n",
      "    def __hash__(self):\n",
      "        return self.__str__().__hash__()\n",
      "\n",
      "    def __eq__(self, other):\n",
      "        return self.__str__() == other.__str__()\n",
      "\n",
      "class Dawg:\n",
      "    def __init__(self):\n",
      "        self.previousWord = \"\"\n",
      "        self.root = DawgNode()\n",
      "\n",
      "        # Here is a list of nodes that have not been checked for duplication.\n",
      "        self.uncheckedNodes = []\n",
      "\n",
      "        # Here is a list of unique nodes that have been checked for\n",
      "        # duplication.\n",
      "        self.minimizedNodes = {}\n",
      "\n",
      "    def insert( self, word ):\n",
      "        if word < self.previousWord:\n",
      "            raise Exception(\"Error: Words must be inserted in alphabetical \" +\n",
      "                \"order.\")\n",
      "\n",
      "        # find common prefix between word and previous word\n",
      "        commonPrefix = 0\n",
      "        for i in range( min( len( word ), len( self.previousWord ) ) ):\n",
      "            if word[i] != self.previousWord[i]: break\n",
      "            commonPrefix += 1\n",
      "\n",
      "        # Check the uncheckedNodes for redundant nodes, proceeding from last\n",
      "        # one down to the common prefix size. Then truncate the list at that\n",
      "        # point.\n",
      "        self._minimize( commonPrefix )\n",
      "\n",
      "        # add the suffix, starting from the correct node mid-way through the\n",
      "        # graph\n",
      "        if len(self.uncheckedNodes) == 0:\n",
      "            node = self.root\n",
      "        else:\n",
      "            node = self.uncheckedNodes[-1][2]\n",
      "\n",
      "        for letter in word[commonPrefix:]:\n",
      "            nextNode = DawgNode()\n",
      "            node.edges[letter] = nextNode\n",
      "            self.uncheckedNodes.append( (node, letter, nextNode) )\n",
      "            node = nextNode\n",
      "\n",
      "        node.final = True\n",
      "        self.previousWord = word\n",
      "\n",
      "    def finish( self ):\n",
      "        # minimize all uncheckedNodes\n",
      "        self._minimize( 0 );\n",
      "\n",
      "    def _minimize( self, downTo ):\n",
      "        # proceed from the leaf up to a certain point\n",
      "        for i in range( len(self.uncheckedNodes) - 1, downTo - 1, -1 ):\n",
      "            (parent, letter, child) = self.uncheckedNodes[i];\n",
      "            if child in self.minimizedNodes:\n",
      "                # replace the child with the previously encountered one\n",
      "                parent.edges[letter] = self.minimizedNodes[child]\n",
      "            else:\n",
      "                # add the state to the minimized nodes.\n",
      "                self.minimizedNodes[child] = child;\n",
      "            self.uncheckedNodes.pop()\n",
      "\n",
      "    def lookup( self, word ):\n",
      "        node = self.root\n",
      "        for letter in word:\n",
      "            if letter not in node.edges: return False\n",
      "            node = node.edges[letter]\n",
      "\n",
      "        return node.final\n",
      "\n",
      "    def nodeCount( self ):\n",
      "        return len(self.minimizedNodes)\n",
      "\n",
      "    def edgeCount( self ):\n",
      "        count = 0\n",
      "        for node in self.minimizedNodes:\n",
      "            count += len(node.edges)\n",
      "        return count\n",
      "\n",
      "        \n",
      "dawg = Dawg()\n",
      "WordCount = 0\n",
      "words = open(DICTIONARY, \"rt\").read().split()\n",
      "words.sort()\n",
      "start = time.time()    \n",
      "\n",
      "progressmod = int(len(words) / 10)\n",
      "progresscount = 0\n",
      "progresslabel = ['9, ', '8, ', '7, ', '6, ', '5, ', '4, ', '3, ', '2, ', '1, ', 'done.']\n",
      "\n",
      "print '10, ',\n",
      "\n",
      "for word in words:\n",
      "    WordCount += 1\n",
      "    dawg.insert(word)\n",
      "    if ( WordCount % progressmod ) == 0:\n",
      "        print progresslabel[progresscount],\n",
      "        progresscount += 1\n",
      "dawg.finish()\n",
      "print ' '\n",
      "print \"Dawg creation took %g s\" % (time.time()-start)    \n",
      "\n",
      "EdgeCount = dawg.edgeCount()\n",
      "print \"Read %d words into %d nodes and %d edges\" % ( WordCount,\n",
      "        dawg.nodeCount(), EdgeCount )\n",
      "print \"This could be stored in as little as %d bytes\" % (EdgeCount * 4)    \n",
      "\n",
      "for word in QUERY:\n",
      "    if not dawg.lookup( word ):\n",
      "        print \"%s not in dictionary.\" % word\n",
      "    else:\n",
      "        print \"%s is in the dictionary.\" % word"
     ],
     "language": "python",
     "metadata": {},
     "outputs": [
      {
       "output_type": "stream",
       "stream": "stdout",
       "text": [
        "10,  "
       ]
      },
      {
       "output_type": "stream",
       "stream": "stdout",
       "text": [
        "9,  "
       ]
      },
      {
       "output_type": "stream",
       "stream": "stdout",
       "text": [
        "8,  "
       ]
      },
      {
       "output_type": "stream",
       "stream": "stdout",
       "text": [
        "7,  "
       ]
      },
      {
       "output_type": "stream",
       "stream": "stdout",
       "text": [
        "6,  "
       ]
      },
      {
       "output_type": "stream",
       "stream": "stdout",
       "text": [
        "5,  "
       ]
      },
      {
       "output_type": "stream",
       "stream": "stdout",
       "text": [
        "4,  "
       ]
      },
      {
       "output_type": "stream",
       "stream": "stdout",
       "text": [
        "3,  "
       ]
      },
      {
       "output_type": "stream",
       "stream": "stdout",
       "text": [
        "2,  "
       ]
      },
      {
       "output_type": "stream",
       "stream": "stdout",
       "text": [
        "1,  "
       ]
      },
      {
       "output_type": "stream",
       "stream": "stdout",
       "text": [
        "done.  \n",
        "Dawg creation took 4.714 s\n",
        "Read 113809 words into 30868 nodes and 77849 edges\n",
        "This could be stored in as little as 311396 bytes\n",
        "throug not in dictionary.\n"
       ]
      }
     ],
     "prompt_number": 8
    },
    {
     "cell_type": "code",
     "collapsed": false,
     "input": [],
     "language": "python",
     "metadata": {},
     "outputs": []
    }
   ],
   "metadata": {}
  }
 ]
}