{
 "metadata": {
  "name": "",
  "signature": "sha256:f570a407591626982a25fff2ebfda4646609719dae73d347b9f4180b0e7a23fe"
 },
 "nbformat": 3,
 "nbformat_minor": 0,
 "worksheets": [
  {
   "cells": [
    {
     "cell_type": "markdown",
     "metadata": {},
     "source": [
      "# word_list_tools repo\n",
      "\n",
      "by David Taylor, www.prooffreader.com, prooffreader@gmail.com\n",
      "\n",
      "a collection of tools to create and analyze lists of words using python with pandas and matplotlib"
     ]
    },
    {
     "cell_type": "markdown",
     "metadata": {},
     "source": [
      "## single letter frequency ###\n",
      "\n",
      "determine frequency of individual letters  in a corpus\n",
      "\n",
      "also determine the conditional frequency of letters before and after a given letter, as well as co-occurrence in words\n",
      "\n",
      "source word list is pandas dataframe with columns 'word' and 'freq'. Any other columns will be ignored.\n",
      "\n",
      "** initial_data_munge must be run first to create pickled dataframes of word lists **"
     ]
    },
    {
     "cell_type": "code",
     "collapsed": false,
     "input": [
      "dataframe_base = 'coha_words' # change as needed to point to pickle\n",
      "\n",
      "data_path = 'data'\n",
      "nb_path = 'letter_single_counts'\n",
      "\n",
      "save_filename = '' #used for .pickle and .png, leave as '' to use a default filename\n",
      "\n",
      "import pandas as pd\n",
      "import os\n",
      "import time\n",
      "\n",
      "words = pd.read_pickle(data_path + '/' + dataframe_base + '.pickle')\n",
      "\n",
      "alphabet = '_abcdefghijklmnopqrstuvwxyz'\n",
      "# note: underscore(_) is a null value, i.e. '_a' signifies a word that starts with the letter a\n",
      "\n",
      "def increment_dict(d, key, increment=1):\n",
      "    if key in d.keys():\n",
      "        d[key] += increment\n",
      "    else:\n",
      "        d[key] = increment\n",
      "    return d\n",
      "\n"
     ],
     "language": "python",
     "metadata": {},
     "outputs": [],
     "prompt_number": 1
    },
    {
     "cell_type": "code",
     "collapsed": false,
     "input": [
      "class progress_bar: \n",
      "    def __init__(self, loop_length):\n",
      "        import time\n",
      "        self.start = time.time()\n",
      "        self.increment_size = 100.0/loop_length\n",
      "        self.curr_count = 0\n",
      "        self.curr_pct = 0\n",
      "        self.finished = False\n",
      "        self.overflow = False\n",
      "        print '% complete:',\n",
      "    \n",
      "    def increment(self):\n",
      "        self.curr_count += self.increment_size\n",
      "        if int(self.curr_count) > self.curr_pct:\n",
      "            self.curr_pct = int(self.curr_count)\n",
      "            if self.finished == False:\n",
      "                if self.curr_pct <= 99:\n",
      "                    print self.curr_pct,\n",
      "                elif self.curr_pct == 100:\n",
      "                    print \"100\"\n",
      "                    self.finished = True  \n",
      "                elif self.overflow == False:\n",
      "                    print \"***** Count has gone over 100%; likely either due to an error in the loop_length specified when \" + \\\n",
      "                          \"progress_bar was instantiated or in the placement of the increment function *****\"\n",
      "                    self.overflow = True\n",
      "                else:\n",
      "                    self.finished = True\n",
      "            if self.overflow == False and self.finished == True:\n",
      "                print 'Elapsed time: %0.1f seconds.' % (time.time() - self.start)\n",
      "                self.overflow = True\n",
      "                \n"
     ],
     "language": "python",
     "metadata": {},
     "outputs": [],
     "prompt_number": 2
    },
    {
     "cell_type": "heading",
     "level": 3,
     "metadata": {},
     "source": [
      "Single letter frequencies"
     ]
    },
    {
     "cell_type": "code",
     "collapsed": false,
     "input": [
      "redo_pickle = True #change to true to overwrite existing pickle if the underlying data changes\n",
      "\n",
      "if save_filename == '':\n",
      "    letfreqs_pickle = nb_path + '/' + dataframe_base + '_letfreqs.pickle'\n",
      "else:\n",
      "    letfreqs_pickle = nb_path + '/' + save_filename + '.pickle'\n",
      "\n",
      "if not os.path.isfile(letfreqs_pickle) or redo_pickle == True:    \n",
      "    \n",
      "    start = time.time()\n",
      "    \n",
      "    letfreq_dict = {}\n",
      "    \n",
      "    for ltr in alphabet:\n",
      "        letfreq_dict[ltr] = 0\n",
      "    \n",
      "    for i in range(len(words)):\n",
      "        wd = words.word.iloc[i]\n",
      "        for ltr in wd:\n",
      "            letfreq_dict[ltr] += words.freq.iloc[i]\n",
      "                \n",
      "    letfreqs_df = pd.DataFrame()\n",
      "    for letter in alphabet:\n",
      "        temp = pd.DataFrame({'letter':[letter],\n",
      "                              'freq':[letfreq_dict[letter]]})\n",
      "        letfreqs_df = letfreqs_df.append(temp, ignore_index=True)\n",
      "\n",
      "    letfreqs_df.to_pickle(letfreqs_pickle)\n",
      "    \n",
      "    letfreqs_df['normal'] = 0.0\n",
      "\n",
      "    letfreqsum = letfreqs_df.freq.sum()\n",
      "\n",
      "    for i in range(len(letfreqs_df)):\n",
      "        letter = letfreqs_df.letter.iloc[i]\n",
      "        freq = letfreqs_df.freq.iloc[i]\n",
      "        letfreqs_df.normal.iloc[i] = 1.0 * freq / letfreqsum\n",
      "\n",
      "    letfreqs_df.set_index('letter', drop=False, inplace=True)\n",
      "    \n",
      "    print \"%d seconds elapsed.\" % (time.time() - start)\n",
      "\n",
      "else:\n",
      "    print 'Reading from pickle.'\n",
      "    letfreqs_df = pd.read_pickle(letfreqs_pickle)\n",
      "    \n",
      "print letfreqs_df"
     ],
     "language": "python",
     "metadata": {},
     "outputs": [
      {
       "ename": "IOError",
       "evalue": "[Errno 2] No such file or directory: 'letter_single_counts/coha_words_letfreqs.pickle'",
       "output_type": "pyerr",
       "traceback": [
        "\u001b[1;31m---------------------------------------------------------------------------\u001b[0m\n\u001b[1;31mIOError\u001b[0m                                   Traceback (most recent call last)",
        "\u001b[1;32m<ipython-input-3-6e1699478c89>\u001b[0m in \u001b[0;36m<module>\u001b[1;34m()\u001b[0m\n\u001b[0;32m     26\u001b[0m         \u001b[0mletfreqs_df\u001b[0m \u001b[1;33m=\u001b[0m \u001b[0mletfreqs_df\u001b[0m\u001b[1;33m.\u001b[0m\u001b[0mappend\u001b[0m\u001b[1;33m(\u001b[0m\u001b[0mtemp\u001b[0m\u001b[1;33m,\u001b[0m \u001b[0mignore_index\u001b[0m\u001b[1;33m=\u001b[0m\u001b[0mTrue\u001b[0m\u001b[1;33m)\u001b[0m\u001b[1;33m\u001b[0m\u001b[0m\n\u001b[0;32m     27\u001b[0m \u001b[1;33m\u001b[0m\u001b[0m\n\u001b[1;32m---> 28\u001b[1;33m     \u001b[0mletfreqs_df\u001b[0m\u001b[1;33m.\u001b[0m\u001b[0mto_pickle\u001b[0m\u001b[1;33m(\u001b[0m\u001b[0mletfreqs_pickle\u001b[0m\u001b[1;33m)\u001b[0m\u001b[1;33m\u001b[0m\u001b[0m\n\u001b[0m\u001b[0;32m     29\u001b[0m \u001b[1;33m\u001b[0m\u001b[0m\n\u001b[0;32m     30\u001b[0m     \u001b[0mletfreqs_df\u001b[0m\u001b[1;33m[\u001b[0m\u001b[1;34m'normal'\u001b[0m\u001b[1;33m]\u001b[0m \u001b[1;33m=\u001b[0m \u001b[1;36m0.0\u001b[0m\u001b[1;33m\u001b[0m\u001b[0m\n",
        "\u001b[1;32mC:\\Users\\David\\Anaconda\\lib\\site-packages\\pandas\\core\\generic.pyc\u001b[0m in \u001b[0;36mto_pickle\u001b[1;34m(self, path)\u001b[0m\n\u001b[0;32m    960\u001b[0m         \"\"\"\n\u001b[0;32m    961\u001b[0m         \u001b[1;32mfrom\u001b[0m \u001b[0mpandas\u001b[0m\u001b[1;33m.\u001b[0m\u001b[0mio\u001b[0m\u001b[1;33m.\u001b[0m\u001b[0mpickle\u001b[0m \u001b[1;32mimport\u001b[0m \u001b[0mto_pickle\u001b[0m\u001b[1;33m\u001b[0m\u001b[0m\n\u001b[1;32m--> 962\u001b[1;33m         \u001b[1;32mreturn\u001b[0m \u001b[0mto_pickle\u001b[0m\u001b[1;33m(\u001b[0m\u001b[0mself\u001b[0m\u001b[1;33m,\u001b[0m \u001b[0mpath\u001b[0m\u001b[1;33m)\u001b[0m\u001b[1;33m\u001b[0m\u001b[0m\n\u001b[0m\u001b[0;32m    963\u001b[0m \u001b[1;33m\u001b[0m\u001b[0m\n\u001b[0;32m    964\u001b[0m     \u001b[1;32mdef\u001b[0m \u001b[0msave\u001b[0m\u001b[1;33m(\u001b[0m\u001b[0mself\u001b[0m\u001b[1;33m,\u001b[0m \u001b[0mpath\u001b[0m\u001b[1;33m)\u001b[0m\u001b[1;33m:\u001b[0m  \u001b[1;31m# TODO remove in 0.14\u001b[0m\u001b[1;33m\u001b[0m\u001b[0m\n",
        "\u001b[1;32mC:\\Users\\David\\Anaconda\\lib\\site-packages\\pandas\\io\\pickle.pyc\u001b[0m in \u001b[0;36mto_pickle\u001b[1;34m(obj, path)\u001b[0m\n\u001b[0;32m     12\u001b[0m         \u001b[0mFile\u001b[0m \u001b[0mpath\u001b[0m\u001b[1;33m\u001b[0m\u001b[0m\n\u001b[0;32m     13\u001b[0m     \"\"\"\n\u001b[1;32m---> 14\u001b[1;33m     \u001b[1;32mwith\u001b[0m \u001b[0mopen\u001b[0m\u001b[1;33m(\u001b[0m\u001b[0mpath\u001b[0m\u001b[1;33m,\u001b[0m \u001b[1;34m'wb'\u001b[0m\u001b[1;33m)\u001b[0m \u001b[1;32mas\u001b[0m \u001b[0mf\u001b[0m\u001b[1;33m:\u001b[0m\u001b[1;33m\u001b[0m\u001b[0m\n\u001b[0m\u001b[0;32m     15\u001b[0m         \u001b[0mpkl\u001b[0m\u001b[1;33m.\u001b[0m\u001b[0mdump\u001b[0m\u001b[1;33m(\u001b[0m\u001b[0mobj\u001b[0m\u001b[1;33m,\u001b[0m \u001b[0mf\u001b[0m\u001b[1;33m,\u001b[0m \u001b[0mprotocol\u001b[0m\u001b[1;33m=\u001b[0m\u001b[0mpkl\u001b[0m\u001b[1;33m.\u001b[0m\u001b[0mHIGHEST_PROTOCOL\u001b[0m\u001b[1;33m)\u001b[0m\u001b[1;33m\u001b[0m\u001b[0m\n\u001b[0;32m     16\u001b[0m \u001b[1;33m\u001b[0m\u001b[0m\n",
        "\u001b[1;31mIOError\u001b[0m: [Errno 2] No such file or directory: 'letter_single_counts/coha_words_letfreqs.pickle'"
       ]
      }
     ],
     "prompt_number": 3
    },
    {
     "cell_type": "code",
     "collapsed": false,
     "input": [
      "letfreqs_df['normal'] = 0.0\n",
      "\n",
      "letfreqsum = letfreqs_df.freq.sum()\n",
      "\n",
      "for i in range(len(letfreqs_df)):\n",
      "    letter = letfreqs_df.letter.iloc[i]\n",
      "    freq = letfreqs_df.freq.iloc[i]\n",
      "    letfreqs_df.normal.iloc[i] = 1.0 * freq / letfreqsum\n",
      "\n",
      "letfreqs_df.set_index('letter', drop=False, inplace=True)"
     ],
     "language": "python",
     "metadata": {},
     "outputs": [],
     "prompt_number": 6
    },
    {
     "cell_type": "heading",
     "level": 4,
     "metadata": {},
     "source": [
      "Compare with letter frequencies from Robert Lewand's Cryptological Mathematics (http://en.algoritmy.net/article/40379/Letter-frequency-English)"
     ]
    },
    {
     "cell_type": "code",
     "collapsed": false,
     "input": [
      "lewand = \"\"\"\n",
      "letter,freq\n",
      "a,0.081670\n",
      "b,0.014920\n",
      "c,0.027820\n",
      "d,0.042530\n",
      "e,0.130001\n",
      "f,0.022280\n",
      "g,0.020150\n",
      "h,0.060940\n",
      "i,0.069660\n",
      "j,0.001530\n",
      "k,0.007720\n",
      "l,0.040250\n",
      "m,0.024060\n",
      "n,0.067490\n",
      "o,0.075070\n",
      "p,0.019290\n",
      "q,0.000950\n",
      "r,0.059870\n",
      "s,0.063270\n",
      "t,0.090560\n",
      "u,0.027580\n",
      "v,0.009780\n",
      "w,0.023600\n",
      "x,0.001500\n",
      "y,0.019740\n",
      "z,0.000740\n",
      "\"\"\"\n",
      "\n",
      "from six.moves import cStringIO as cStringIO\n",
      "lewandcompar = pd.read_csv(cStringIO(lewand), skiprows=1, skipinitialspace=True)"
     ],
     "language": "python",
     "metadata": {},
     "outputs": [],
     "prompt_number": 9
    },
    {
     "cell_type": "code",
     "collapsed": false,
     "input": [
      "print lewandcompar"
     ],
     "language": "python",
     "metadata": {},
     "outputs": [
      {
       "output_type": "stream",
       "stream": "stdout",
       "text": [
        "   letter      freq\n",
        "0       a  0.081670\n",
        "1       b  0.014920\n",
        "2       c  0.027820\n",
        "3       d  0.042530\n",
        "4       e  0.130001\n",
        "5       f  0.022280\n",
        "6       g  0.020150\n",
        "7       h  0.060940\n",
        "8       i  0.069660\n",
        "9       j  0.001530\n",
        "10      k  0.007720\n",
        "11      l  0.040250\n",
        "12      m  0.024060\n",
        "13      n  0.067490\n",
        "14      o  0.075070\n",
        "15      p  0.019290\n",
        "16      q  0.000950\n",
        "17      r  0.059870\n",
        "18      s  0.063270\n",
        "19      t  0.090560\n",
        "20      u  0.027580\n",
        "21      v  0.009780\n",
        "22      w  0.023600\n",
        "23      x  0.001500\n",
        "24      y  0.019740\n",
        "25      z  0.000740\n"
       ]
      }
     ],
     "prompt_number": 10
    },
    {
     "cell_type": "code",
     "collapsed": false,
     "input": [
      "lewandcompar['lewand'] = 0.0\n",
      "lewandcompar['diff'] = 0.0\n",
      "lewandcompar['ratio'] = 0.0\n",
      "for i in range(len(lewandcompar)):\n",
      "    ltr = lewandcompar.letter.iloc[i]\n",
      "    freq = lewandcompar.freq.iloc[i]\n",
      "    freq2 = letfreqs_df[letfreqs_df.letter == ltr].normal.iloc[0]\n",
      "    lewandcompar['lewand'].iloc[i] = freq2\n",
      "    lewandcompar['diff'].iloc[i] = freq - freq2\n",
      "    lewandcompar['ratio'].iloc[i] = freq*1.0 / freq2\n",
      "lewandcompar.columns = [['letter', 'lewand', 'coha', 'diff', 'ratio']]\n",
      "print lewandcompar\n",
      "lewandcompar.to_pickle('lewand_'+dataframe_base+'.pickle')"
     ],
     "language": "python",
     "metadata": {},
     "outputs": [
      {
       "output_type": "stream",
       "stream": "stdout",
       "text": [
        "   letter    lewand      coha      diff     ratio\n",
        "0       a  0.081670  0.080824  0.000846  1.010466\n",
        "1       b  0.014920  0.015460 -0.000540  0.965098\n",
        "2       c  0.027820  0.027426  0.000394  1.014382\n",
        "3       d  0.042530  0.041711  0.000819  1.019628\n",
        "4       e  0.130001  0.125216  0.004785  1.038217\n",
        "5       f  0.022280  0.022819 -0.000539  0.976372\n",
        "6       g  0.020150  0.020151 -0.000001  0.999972\n",
        "7       h  0.060940  0.059554  0.001386  1.023277\n",
        "8       i  0.069660  0.070775 -0.001115  0.984249\n",
        "9       j  0.001530  0.001601 -0.000071  0.955672\n",
        "10      k  0.007720  0.007745 -0.000025  0.996759\n",
        "11      l  0.040250  0.040701 -0.000451  0.988921\n",
        "12      m  0.024060  0.024743 -0.000683  0.972381\n",
        "13      n  0.067490  0.069573 -0.002083  0.970054\n",
        "14      o  0.075070  0.076917 -0.001847  0.975985\n",
        "15      p  0.019290  0.018428  0.000862  1.046760\n",
        "16      q  0.000950  0.000941  0.000009  1.009211\n",
        "17      r  0.059870  0.059652  0.000218  1.003656\n",
        "18      s  0.063270  0.063211  0.000059  1.000933\n",
        "19      t  0.090560  0.092060 -0.001500  0.983707\n",
        "20      u  0.027580  0.027879 -0.000299  0.989268\n",
        "21      v  0.009780  0.009630  0.000150  1.015589\n",
        "22      w  0.023600  0.021469  0.002131  1.099246\n",
        "23      x  0.001500  0.001679 -0.000179  0.893395\n",
        "24      y  0.019740  0.019034  0.000706  1.037065\n",
        "25      z  0.000740  0.000800 -0.000060  0.924743\n"
       ]
      }
     ],
     "prompt_number": 12
    },
    {
     "cell_type": "code",
     "collapsed": false,
     "input": [
      "import matplotlib.pyplot as plt\n",
      "%matplotlib inline"
     ],
     "language": "python",
     "metadata": {},
     "outputs": [],
     "prompt_number": 10
    },
    {
     "cell_type": "code",
     "collapsed": false,
     "input": [
      "#coha\n",
      "#plt.scatter(lewandcompar['diff'], lewandcompar['ratio'])"
     ],
     "language": "python",
     "metadata": {},
     "outputs": [],
     "prompt_number": 13
    },
    {
     "cell_type": "code",
     "collapsed": false,
     "input": [
      "#brown\n",
      "plt.scatter(lewandcompar['diff'], lewandcompar['ratio'])"
     ],
     "language": "python",
     "metadata": {},
     "outputs": [
      {
       "metadata": {},
       "output_type": "pyout",
       "prompt_number": 12,
       "text": [
        "<matplotlib.collections.PathCollection at 0xc4fd748>"
       ]
      },
      {
       "metadata": {},
       "output_type": "display_data",
       "png": "[encoded data removed]",
       "text": [
        "<matplotlib.figure.Figure at 0xced84e0>"
       ]
      }
     ],
     "prompt_number": 12
    },
    {
     "cell_type": "code",
     "collapsed": false,
     "input": [
      "brown = \"\"\"\n",
      "   letter      freq      diff     ratio\n",
      "0       a  0.081670  0.000560  1.006909\n",
      "1       b  0.014920 -0.000482  0.968713\n",
      "2       c  0.027820 -0.003161  0.897963\n",
      "3       d  0.042530  0.003176  1.080702\n",
      "4       e  0.130001  0.004394  1.034983\n",
      "5       f  0.022280 -0.001232  0.947612\n",
      "6       g  0.020150  0.000715  1.036810\n",
      "7       h  0.060940  0.006087  1.110970\n",
      "8       i  0.069660 -0.003432  0.953046\n",
      "9       j  0.001530 -0.000039  0.974963\n",
      "10      k  0.007720  0.001226  1.188787\n",
      "11      l  0.040250 -0.000703  0.982836\n",
      "12      m  0.024060 -0.001006  0.959865\n",
      "13      n  0.067490 -0.003308  0.953271\n",
      "14      o  0.075070 -0.001074  0.985893\n",
      "15      p  0.019290 -0.000937  0.953656\n",
      "16      q  0.000950 -0.000133  0.877585\n",
      "17      r  0.059870 -0.001095  0.982046\n",
      "18      s  0.063270 -0.001276  0.980231\n",
      "19      t  0.090560 -0.002327  0.974951\n",
      "20      u  0.027580  0.000453  1.016713\n",
      "21      v  0.009780 -0.000154  0.984471\n",
      "22      w  0.023600  0.004780  1.253974\n",
      "23      x  0.001500 -0.000469  0.761868\n",
      "24      y  0.019740  0.002606  1.152075\n",
      "25      z  0.000740 -0.000199  0.788285\n",
      "\"\"\""
     ],
     "language": "python",
     "metadata": {},
     "outputs": []
    }
   ],
   "metadata": {}
  }
 ]
}